{
  "cells": [
    {
      "cell_type": "code",
      "execution_count": null,
      "source": [
        "# This Python 3 environment comes with many helpful analytics libraries installed\n",
        "# It is defined by the kaggle/python Docker image: https://github.com/kaggle/docker-python\n",
        "# For example, here's several helpful packages to load\n",
        "\n",
        "import numpy as np # linear algebra\n",
        "import pandas as pd # data processing, CSV file I/O (e.g. pd.read_csv)\n",
        "\n",
        "# Input data files are available in the read-only \"../input/\" directory\n",
        "# For example, running this (by clicking run or pressing Shift+Enter) will list all files under the input directory\n",
        "\n",
        "# import os\n",
        "# for dirname, _, filenames in os.walk('/kaggle/input'):\n",
        "#     for filename in filenames:\n",
        "#         print(os.path.join(dirname, filename))\n",
        "\n",
        "# You can write up to 20GB to the current directory (/kaggle/working/) that gets preserved as output when you create a version using \"Save & Run All\" \n",
        "# You can also write temporary files to /kaggle/temp/, but they won't be saved outside of the current session"
      ],
      "outputs": [],
      "metadata": {
        "_cell_guid": "b1076dfc-b9ad-4769-8c92-a6c4dae69d19",
        "_uuid": "8f2839f25d086af736a60e9eeb907d3b93b6e0e5",
        "execution": {
          "iopub.execute_input": "2021-04-04T18:05:15.508328Z",
          "iopub.status.busy": "2021-04-04T18:05:15.507611Z",
          "iopub.status.idle": "2021-04-04T18:05:15.523999Z",
          "shell.execute_reply": "2021-04-04T18:05:15.523159Z"
        },
        "papermill": {
          "duration": 0.076937,
          "end_time": "2021-04-04T18:05:15.524337",
          "exception": false,
          "start_time": "2021-04-04T18:05:15.447400",
          "status": "completed"
        },
        "tags": [],
        "id": "GnNLLrLlwnlm"
      }
    },
    {
      "cell_type": "code",
      "execution_count": null,
      "source": [
        "import matplotlib.pyplot as plt\n",
        "import seaborn as sns\n",
        "from keras.utils.np_utils import to_categorical"
      ],
      "outputs": [],
      "metadata": {
        "execution": {
          "iopub.execute_input": "2021-04-04T18:05:15.630781Z",
          "iopub.status.busy": "2021-04-04T18:05:15.630042Z",
          "iopub.status.idle": "2021-04-04T18:05:23.443699Z",
          "shell.execute_reply": "2021-04-04T18:05:23.444397Z"
        },
        "papermill": {
          "duration": 7.868933,
          "end_time": "2021-04-04T18:05:23.444616",
          "exception": false,
          "start_time": "2021-04-04T18:05:15.575683",
          "status": "completed"
        },
        "tags": [],
        "id": "5Cqbkemfwnln"
      }
    },
    {
      "cell_type": "code",
      "execution_count": null,
      "source": [
        "data = pd.read_csv('Tweets.csv')"
      ],
      "outputs": [],
      "metadata": {
        "execution": {
          "iopub.execute_input": "2021-04-04T18:05:23.549651Z",
          "iopub.status.busy": "2021-04-04T18:05:23.548956Z",
          "iopub.status.idle": "2021-04-04T18:05:23.716590Z",
          "shell.execute_reply": "2021-04-04T18:05:23.715880Z"
        },
        "papermill": {
          "duration": 0.222625,
          "end_time": "2021-04-04T18:05:23.716783",
          "exception": false,
          "start_time": "2021-04-04T18:05:23.494158",
          "status": "completed"
        },
        "tags": [],
        "id": "xEzC4WtZwnln"
      }
    },
    {
      "cell_type": "code",
      "execution_count": null,
      "source": [
        "data.head()"
      ],
      "outputs": [
        {
          "output_type": "execute_result",
          "data": {
            "text/plain": [
              "             tweet_id airline_sentiment  airline_sentiment_confidence  \\\n",
              "0  570306133677760513           neutral                        1.0000   \n",
              "1  570301130888122368          positive                        0.3486   \n",
              "2  570301083672813571           neutral                        0.6837   \n",
              "3  570301031407624196          negative                        1.0000   \n",
              "4  570300817074462722          negative                        1.0000   \n",
              "\n",
              "  negativereason  negativereason_confidence         airline  \\\n",
              "0            NaN                        NaN  Virgin America   \n",
              "1            NaN                     0.0000  Virgin America   \n",
              "2            NaN                        NaN  Virgin America   \n",
              "3     Bad Flight                     0.7033  Virgin America   \n",
              "4     Can't Tell                     1.0000  Virgin America   \n",
              "\n",
              "  airline_sentiment_gold        name negativereason_gold  retweet_count  \\\n",
              "0                    NaN     cairdin                 NaN              0   \n",
              "1                    NaN    jnardino                 NaN              0   \n",
              "2                    NaN  yvonnalynn                 NaN              0   \n",
              "3                    NaN    jnardino                 NaN              0   \n",
              "4                    NaN    jnardino                 NaN              0   \n",
              "\n",
              "                                                text tweet_coord  \\\n",
              "0                @VirginAmerica What @dhepburn said.         NaN   \n",
              "1  @VirginAmerica plus you've added commercials t...         NaN   \n",
              "2  @VirginAmerica I didn't today... Must mean I n...         NaN   \n",
              "3  @VirginAmerica it's really aggressive to blast...         NaN   \n",
              "4  @VirginAmerica and it's a really big bad thing...         NaN   \n",
              "\n",
              "               tweet_created tweet_location               user_timezone  \n",
              "0  2015-02-24 11:35:52 -0800            NaN  Eastern Time (US & Canada)  \n",
              "1  2015-02-24 11:15:59 -0800            NaN  Pacific Time (US & Canada)  \n",
              "2  2015-02-24 11:15:48 -0800      Lets Play  Central Time (US & Canada)  \n",
              "3  2015-02-24 11:15:36 -0800            NaN  Pacific Time (US & Canada)  \n",
              "4  2015-02-24 11:14:45 -0800            NaN  Pacific Time (US & Canada)  "
            ],
            "text/html": [
              "\n",
              "  <div id=\"df-86202001-8115-46b5-bb17-99764e516409\">\n",
              "    <div class=\"colab-df-container\">\n",
              "      <div>\n",
              "<style scoped>\n",
              "    .dataframe tbody tr th:only-of-type {\n",
              "        vertical-align: middle;\n",
              "    }\n",
              "\n",
              "    .dataframe tbody tr th {\n",
              "        vertical-align: top;\n",
              "    }\n",
              "\n",
              "    .dataframe thead th {\n",
              "        text-align: right;\n",
              "    }\n",
              "</style>\n",
              "<table border=\"1\" class=\"dataframe\">\n",
              "  <thead>\n",
              "    <tr style=\"text-align: right;\">\n",
              "      <th></th>\n",
              "      <th>tweet_id</th>\n",
              "      <th>airline_sentiment</th>\n",
              "      <th>airline_sentiment_confidence</th>\n",
              "      <th>negativereason</th>\n",
              "      <th>negativereason_confidence</th>\n",
              "      <th>airline</th>\n",
              "      <th>airline_sentiment_gold</th>\n",
              "      <th>name</th>\n",
              "      <th>negativereason_gold</th>\n",
              "      <th>retweet_count</th>\n",
              "      <th>text</th>\n",
              "      <th>tweet_coord</th>\n",
              "      <th>tweet_created</th>\n",
              "      <th>tweet_location</th>\n",
              "      <th>user_timezone</th>\n",
              "    </tr>\n",
              "  </thead>\n",
              "  <tbody>\n",
              "    <tr>\n",
              "      <th>0</th>\n",
              "      <td>570306133677760513</td>\n",
              "      <td>neutral</td>\n",
              "      <td>1.0000</td>\n",
              "      <td>NaN</td>\n",
              "      <td>NaN</td>\n",
              "      <td>Virgin America</td>\n",
              "      <td>NaN</td>\n",
              "      <td>cairdin</td>\n",
              "      <td>NaN</td>\n",
              "      <td>0</td>\n",
              "      <td>@VirginAmerica What @dhepburn said.</td>\n",
              "      <td>NaN</td>\n",
              "      <td>2015-02-24 11:35:52 -0800</td>\n",
              "      <td>NaN</td>\n",
              "      <td>Eastern Time (US &amp; Canada)</td>\n",
              "    </tr>\n",
              "    <tr>\n",
              "      <th>1</th>\n",
              "      <td>570301130888122368</td>\n",
              "      <td>positive</td>\n",
              "      <td>0.3486</td>\n",
              "      <td>NaN</td>\n",
              "      <td>0.0000</td>\n",
              "      <td>Virgin America</td>\n",
              "      <td>NaN</td>\n",
              "      <td>jnardino</td>\n",
              "      <td>NaN</td>\n",
              "      <td>0</td>\n",
              "      <td>@VirginAmerica plus you've added commercials t...</td>\n",
              "      <td>NaN</td>\n",
              "      <td>2015-02-24 11:15:59 -0800</td>\n",
              "      <td>NaN</td>\n",
              "      <td>Pacific Time (US &amp; Canada)</td>\n",
              "    </tr>\n",
              "    <tr>\n",
              "      <th>2</th>\n",
              "      <td>570301083672813571</td>\n",
              "      <td>neutral</td>\n",
              "      <td>0.6837</td>\n",
              "      <td>NaN</td>\n",
              "      <td>NaN</td>\n",
              "      <td>Virgin America</td>\n",
              "      <td>NaN</td>\n",
              "      <td>yvonnalynn</td>\n",
              "      <td>NaN</td>\n",
              "      <td>0</td>\n",
              "      <td>@VirginAmerica I didn't today... Must mean I n...</td>\n",
              "      <td>NaN</td>\n",
              "      <td>2015-02-24 11:15:48 -0800</td>\n",
              "      <td>Lets Play</td>\n",
              "      <td>Central Time (US &amp; Canada)</td>\n",
              "    </tr>\n",
              "    <tr>\n",
              "      <th>3</th>\n",
              "      <td>570301031407624196</td>\n",
              "      <td>negative</td>\n",
              "      <td>1.0000</td>\n",
              "      <td>Bad Flight</td>\n",
              "      <td>0.7033</td>\n",
              "      <td>Virgin America</td>\n",
              "      <td>NaN</td>\n",
              "      <td>jnardino</td>\n",
              "      <td>NaN</td>\n",
              "      <td>0</td>\n",
              "      <td>@VirginAmerica it's really aggressive to blast...</td>\n",
              "      <td>NaN</td>\n",
              "      <td>2015-02-24 11:15:36 -0800</td>\n",
              "      <td>NaN</td>\n",
              "      <td>Pacific Time (US &amp; Canada)</td>\n",
              "    </tr>\n",
              "    <tr>\n",
              "      <th>4</th>\n",
              "      <td>570300817074462722</td>\n",
              "      <td>negative</td>\n",
              "      <td>1.0000</td>\n",
              "      <td>Can't Tell</td>\n",
              "      <td>1.0000</td>\n",
              "      <td>Virgin America</td>\n",
              "      <td>NaN</td>\n",
              "      <td>jnardino</td>\n",
              "      <td>NaN</td>\n",
              "      <td>0</td>\n",
              "      <td>@VirginAmerica and it's a really big bad thing...</td>\n",
              "      <td>NaN</td>\n",
              "      <td>2015-02-24 11:14:45 -0800</td>\n",
              "      <td>NaN</td>\n",
              "      <td>Pacific Time (US &amp; Canada)</td>\n",
              "    </tr>\n",
              "  </tbody>\n",
              "</table>\n",
              "</div>\n",
              "      <button class=\"colab-df-convert\" onclick=\"convertToInteractive('df-86202001-8115-46b5-bb17-99764e516409')\"\n",
              "              title=\"Convert this dataframe to an interactive table.\"\n",
              "              style=\"display:none;\">\n",
              "        \n",
              "  <svg xmlns=\"http://www.w3.org/2000/svg\" height=\"24px\"viewBox=\"0 0 24 24\"\n",
              "       width=\"24px\">\n",
              "    <path d=\"M0 0h24v24H0V0z\" fill=\"none\"/>\n",
              "    <path d=\"M18.56 5.44l.94 2.06.94-2.06 2.06-.94-2.06-.94-.94-2.06-.94 2.06-2.06.94zm-11 1L8.5 8.5l.94-2.06 2.06-.94-2.06-.94L8.5 2.5l-.94 2.06-2.06.94zm10 10l.94 2.06.94-2.06 2.06-.94-2.06-.94-.94-2.06-.94 2.06-2.06.94z\"/><path d=\"M17.41 7.96l-1.37-1.37c-.4-.4-.92-.59-1.43-.59-.52 0-1.04.2-1.43.59L10.3 9.45l-7.72 7.72c-.78.78-.78 2.05 0 2.83L4 21.41c.39.39.9.59 1.41.59.51 0 1.02-.2 1.41-.59l7.78-7.78 2.81-2.81c.8-.78.8-2.07 0-2.86zM5.41 20L4 18.59l7.72-7.72 1.47 1.35L5.41 20z\"/>\n",
              "  </svg>\n",
              "      </button>\n",
              "      \n",
              "  <style>\n",
              "    .colab-df-container {\n",
              "      display:flex;\n",
              "      flex-wrap:wrap;\n",
              "      gap: 12px;\n",
              "    }\n",
              "\n",
              "    .colab-df-convert {\n",
              "      background-color: #E8F0FE;\n",
              "      border: none;\n",
              "      border-radius: 50%;\n",
              "      cursor: pointer;\n",
              "      display: none;\n",
              "      fill: #1967D2;\n",
              "      height: 32px;\n",
              "      padding: 0 0 0 0;\n",
              "      width: 32px;\n",
              "    }\n",
              "\n",
              "    .colab-df-convert:hover {\n",
              "      background-color: #E2EBFA;\n",
              "      box-shadow: 0px 1px 2px rgba(60, 64, 67, 0.3), 0px 1px 3px 1px rgba(60, 64, 67, 0.15);\n",
              "      fill: #174EA6;\n",
              "    }\n",
              "\n",
              "    [theme=dark] .colab-df-convert {\n",
              "      background-color: #3B4455;\n",
              "      fill: #D2E3FC;\n",
              "    }\n",
              "\n",
              "    [theme=dark] .colab-df-convert:hover {\n",
              "      background-color: #434B5C;\n",
              "      box-shadow: 0px 1px 3px 1px rgba(0, 0, 0, 0.15);\n",
              "      filter: drop-shadow(0px 1px 2px rgba(0, 0, 0, 0.3));\n",
              "      fill: #FFFFFF;\n",
              "    }\n",
              "  </style>\n",
              "\n",
              "      <script>\n",
              "        const buttonEl =\n",
              "          document.querySelector('#df-86202001-8115-46b5-bb17-99764e516409 button.colab-df-convert');\n",
              "        buttonEl.style.display =\n",
              "          google.colab.kernel.accessAllowed ? 'block' : 'none';\n",
              "\n",
              "        async function convertToInteractive(key) {\n",
              "          const element = document.querySelector('#df-86202001-8115-46b5-bb17-99764e516409');\n",
              "          const dataTable =\n",
              "            await google.colab.kernel.invokeFunction('convertToInteractive',\n",
              "                                                     [key], {});\n",
              "          if (!dataTable) return;\n",
              "\n",
              "          const docLinkHtml = 'Like what you see? Visit the ' +\n",
              "            '<a target=\"_blank\" href=https://colab.research.google.com/notebooks/data_table.ipynb>data table notebook</a>'\n",
              "            + ' to learn more about interactive tables.';\n",
              "          element.innerHTML = '';\n",
              "          dataTable['output_type'] = 'display_data';\n",
              "          await google.colab.output.renderOutput(dataTable, element);\n",
              "          const docLink = document.createElement('div');\n",
              "          docLink.innerHTML = docLinkHtml;\n",
              "          element.appendChild(docLink);\n",
              "        }\n",
              "      </script>\n",
              "    </div>\n",
              "  </div>\n",
              "  "
            ]
          },
          "metadata": {},
          "execution_count": 10
        }
      ],
      "metadata": {
        "execution": {
          "iopub.execute_input": "2021-04-04T18:05:23.835569Z",
          "iopub.status.busy": "2021-04-04T18:05:23.834746Z",
          "iopub.status.idle": "2021-04-04T18:05:23.863722Z",
          "shell.execute_reply": "2021-04-04T18:05:23.864331Z"
        },
        "papermill": {
          "duration": 0.096104,
          "end_time": "2021-04-04T18:05:23.864528",
          "exception": false,
          "start_time": "2021-04-04T18:05:23.768424",
          "status": "completed"
        },
        "tags": [],
        "colab": {
          "base_uri": "https://localhost:8080/",
          "height": 496
        },
        "id": "UkO1_JMjwnlo",
        "outputId": "d6fe943d-8801-42a3-c718-79d7f1ac72e9"
      }
    },
    {
      "cell_type": "code",
      "execution_count": null,
      "source": [
        "tweet = data[['airline_sentiment' , 'text']]"
      ],
      "outputs": [],
      "metadata": {
        "execution": {
          "iopub.execute_input": "2021-04-04T18:05:23.969200Z",
          "iopub.status.busy": "2021-04-04T18:05:23.968528Z",
          "iopub.status.idle": "2021-04-04T18:05:23.974336Z",
          "shell.execute_reply": "2021-04-04T18:05:23.974879Z"
        },
        "papermill": {
          "duration": 0.059839,
          "end_time": "2021-04-04T18:05:23.975054",
          "exception": false,
          "start_time": "2021-04-04T18:05:23.915215",
          "status": "completed"
        },
        "tags": [],
        "id": "L98wqUHmwnlo"
      }
    },
    {
      "cell_type": "code",
      "execution_count": null,
      "source": [
        "tweet.shape"
      ],
      "outputs": [
        {
          "output_type": "execute_result",
          "data": {
            "text/plain": [
              "(14640, 2)"
            ]
          },
          "metadata": {},
          "execution_count": 12
        }
      ],
      "metadata": {
        "execution": {
          "iopub.execute_input": "2021-04-04T18:05:24.083162Z",
          "iopub.status.busy": "2021-04-04T18:05:24.082442Z",
          "iopub.status.idle": "2021-04-04T18:05:24.089790Z",
          "shell.execute_reply": "2021-04-04T18:05:24.089125Z"
        },
        "papermill": {
          "duration": 0.063379,
          "end_time": "2021-04-04T18:05:24.089944",
          "exception": false,
          "start_time": "2021-04-04T18:05:24.026565",
          "status": "completed"
        },
        "tags": [],
        "colab": {
          "base_uri": "https://localhost:8080/"
        },
        "id": "XEt_bqIIwnlo",
        "outputId": "b3ef35fa-38dd-4015-bfc8-cebd525bd286"
      }
    },
    {
      "cell_type": "code",
      "execution_count": null,
      "source": [
        "tweet.head()"
      ],
      "outputs": [
        {
          "output_type": "execute_result",
          "data": {
            "text/plain": [
              "  airline_sentiment                                               text\n",
              "0           neutral                @VirginAmerica What @dhepburn said.\n",
              "1          positive  @VirginAmerica plus you've added commercials t...\n",
              "2           neutral  @VirginAmerica I didn't today... Must mean I n...\n",
              "3          negative  @VirginAmerica it's really aggressive to blast...\n",
              "4          negative  @VirginAmerica and it's a really big bad thing..."
            ],
            "text/html": [
              "\n",
              "  <div id=\"df-ded78b3d-685d-4235-8ef5-a04f88385e20\">\n",
              "    <div class=\"colab-df-container\">\n",
              "      <div>\n",
              "<style scoped>\n",
              "    .dataframe tbody tr th:only-of-type {\n",
              "        vertical-align: middle;\n",
              "    }\n",
              "\n",
              "    .dataframe tbody tr th {\n",
              "        vertical-align: top;\n",
              "    }\n",
              "\n",
              "    .dataframe thead th {\n",
              "        text-align: right;\n",
              "    }\n",
              "</style>\n",
              "<table border=\"1\" class=\"dataframe\">\n",
              "  <thead>\n",
              "    <tr style=\"text-align: right;\">\n",
              "      <th></th>\n",
              "      <th>airline_sentiment</th>\n",
              "      <th>text</th>\n",
              "    </tr>\n",
              "  </thead>\n",
              "  <tbody>\n",
              "    <tr>\n",
              "      <th>0</th>\n",
              "      <td>neutral</td>\n",
              "      <td>@VirginAmerica What @dhepburn said.</td>\n",
              "    </tr>\n",
              "    <tr>\n",
              "      <th>1</th>\n",
              "      <td>positive</td>\n",
              "      <td>@VirginAmerica plus you've added commercials t...</td>\n",
              "    </tr>\n",
              "    <tr>\n",
              "      <th>2</th>\n",
              "      <td>neutral</td>\n",
              "      <td>@VirginAmerica I didn't today... Must mean I n...</td>\n",
              "    </tr>\n",
              "    <tr>\n",
              "      <th>3</th>\n",
              "      <td>negative</td>\n",
              "      <td>@VirginAmerica it's really aggressive to blast...</td>\n",
              "    </tr>\n",
              "    <tr>\n",
              "      <th>4</th>\n",
              "      <td>negative</td>\n",
              "      <td>@VirginAmerica and it's a really big bad thing...</td>\n",
              "    </tr>\n",
              "  </tbody>\n",
              "</table>\n",
              "</div>\n",
              "      <button class=\"colab-df-convert\" onclick=\"convertToInteractive('df-ded78b3d-685d-4235-8ef5-a04f88385e20')\"\n",
              "              title=\"Convert this dataframe to an interactive table.\"\n",
              "              style=\"display:none;\">\n",
              "        \n",
              "  <svg xmlns=\"http://www.w3.org/2000/svg\" height=\"24px\"viewBox=\"0 0 24 24\"\n",
              "       width=\"24px\">\n",
              "    <path d=\"M0 0h24v24H0V0z\" fill=\"none\"/>\n",
              "    <path d=\"M18.56 5.44l.94 2.06.94-2.06 2.06-.94-2.06-.94-.94-2.06-.94 2.06-2.06.94zm-11 1L8.5 8.5l.94-2.06 2.06-.94-2.06-.94L8.5 2.5l-.94 2.06-2.06.94zm10 10l.94 2.06.94-2.06 2.06-.94-2.06-.94-.94-2.06-.94 2.06-2.06.94z\"/><path d=\"M17.41 7.96l-1.37-1.37c-.4-.4-.92-.59-1.43-.59-.52 0-1.04.2-1.43.59L10.3 9.45l-7.72 7.72c-.78.78-.78 2.05 0 2.83L4 21.41c.39.39.9.59 1.41.59.51 0 1.02-.2 1.41-.59l7.78-7.78 2.81-2.81c.8-.78.8-2.07 0-2.86zM5.41 20L4 18.59l7.72-7.72 1.47 1.35L5.41 20z\"/>\n",
              "  </svg>\n",
              "      </button>\n",
              "      \n",
              "  <style>\n",
              "    .colab-df-container {\n",
              "      display:flex;\n",
              "      flex-wrap:wrap;\n",
              "      gap: 12px;\n",
              "    }\n",
              "\n",
              "    .colab-df-convert {\n",
              "      background-color: #E8F0FE;\n",
              "      border: none;\n",
              "      border-radius: 50%;\n",
              "      cursor: pointer;\n",
              "      display: none;\n",
              "      fill: #1967D2;\n",
              "      height: 32px;\n",
              "      padding: 0 0 0 0;\n",
              "      width: 32px;\n",
              "    }\n",
              "\n",
              "    .colab-df-convert:hover {\n",
              "      background-color: #E2EBFA;\n",
              "      box-shadow: 0px 1px 2px rgba(60, 64, 67, 0.3), 0px 1px 3px 1px rgba(60, 64, 67, 0.15);\n",
              "      fill: #174EA6;\n",
              "    }\n",
              "\n",
              "    [theme=dark] .colab-df-convert {\n",
              "      background-color: #3B4455;\n",
              "      fill: #D2E3FC;\n",
              "    }\n",
              "\n",
              "    [theme=dark] .colab-df-convert:hover {\n",
              "      background-color: #434B5C;\n",
              "      box-shadow: 0px 1px 3px 1px rgba(0, 0, 0, 0.15);\n",
              "      filter: drop-shadow(0px 1px 2px rgba(0, 0, 0, 0.3));\n",
              "      fill: #FFFFFF;\n",
              "    }\n",
              "  </style>\n",
              "\n",
              "      <script>\n",
              "        const buttonEl =\n",
              "          document.querySelector('#df-ded78b3d-685d-4235-8ef5-a04f88385e20 button.colab-df-convert');\n",
              "        buttonEl.style.display =\n",
              "          google.colab.kernel.accessAllowed ? 'block' : 'none';\n",
              "\n",
              "        async function convertToInteractive(key) {\n",
              "          const element = document.querySelector('#df-ded78b3d-685d-4235-8ef5-a04f88385e20');\n",
              "          const dataTable =\n",
              "            await google.colab.kernel.invokeFunction('convertToInteractive',\n",
              "                                                     [key], {});\n",
              "          if (!dataTable) return;\n",
              "\n",
              "          const docLinkHtml = 'Like what you see? Visit the ' +\n",
              "            '<a target=\"_blank\" href=https://colab.research.google.com/notebooks/data_table.ipynb>data table notebook</a>'\n",
              "            + ' to learn more about interactive tables.';\n",
              "          element.innerHTML = '';\n",
              "          dataTable['output_type'] = 'display_data';\n",
              "          await google.colab.output.renderOutput(dataTable, element);\n",
              "          const docLink = document.createElement('div');\n",
              "          docLink.innerHTML = docLinkHtml;\n",
              "          element.appendChild(docLink);\n",
              "        }\n",
              "      </script>\n",
              "    </div>\n",
              "  </div>\n",
              "  "
            ]
          },
          "metadata": {},
          "execution_count": 13
        }
      ],
      "metadata": {
        "execution": {
          "iopub.execute_input": "2021-04-04T18:05:24.203237Z",
          "iopub.status.busy": "2021-04-04T18:05:24.202209Z",
          "iopub.status.idle": "2021-04-04T18:05:24.207318Z",
          "shell.execute_reply": "2021-04-04T18:05:24.206765Z"
        },
        "papermill": {
          "duration": 0.066596,
          "end_time": "2021-04-04T18:05:24.207508",
          "exception": false,
          "start_time": "2021-04-04T18:05:24.140912",
          "status": "completed"
        },
        "tags": [],
        "colab": {
          "base_uri": "https://localhost:8080/",
          "height": 206
        },
        "id": "6Wivik40wnlo",
        "outputId": "fb65d80a-3ce6-469a-8050-474cabce7554"
      }
    },
    {
      "cell_type": "code",
      "execution_count": null,
      "source": [
        "sns.countplot(x = 'airline_sentiment' , data = tweet)\n",
        "plt.show()"
      ],
      "outputs": [
        {
          "output_type": "display_data",
          "data": {
            "text/plain": [
              "<Figure size 432x288 with 1 Axes>"
            ],
            "image/png": "[encoded data removed]"
          },
          "metadata": {
            "needs_background": "light"
          }
        }
      ],
      "metadata": {
        "execution": {
          "iopub.execute_input": "2021-04-04T18:05:24.332977Z",
          "iopub.status.busy": "2021-04-04T18:05:24.328068Z",
          "iopub.status.idle": "2021-04-04T18:05:24.489035Z",
          "shell.execute_reply": "2021-04-04T18:05:24.489596Z"
        },
        "papermill": {
          "duration": 0.230409,
          "end_time": "2021-04-04T18:05:24.489813",
          "exception": false,
          "start_time": "2021-04-04T18:05:24.259404",
          "status": "completed"
        },
        "tags": [],
        "colab": {
          "base_uri": "https://localhost:8080/",
          "height": 280
        },
        "id": "N3zM1brewnlo",
        "outputId": "66d8b418-e8bd-4f2e-9e8e-1dde2a1025a9"
      }
    },
    {
      "cell_type": "code",
      "execution_count": null,
      "source": [
        "#dropping neutral class. We are currently concerned with positive and negative samples.\n",
        "tweet.drop(tweet[tweet['airline_sentiment'] == 'neutral'].index, inplace = True)"
      ],
      "outputs": [
        {
          "output_type": "stream",
          "name": "stderr",
          "text": [
            "/usr/local/lib/python3.7/dist-packages/pandas/core/frame.py:4913: SettingWithCopyWarning: \n",
            "A value is trying to be set on a copy of a slice from a DataFrame\n",
            "\n",
            "See the caveats in the documentation: https://pandas.pydata.org/pandas-docs/stable/user_guide/indexing.html#returning-a-view-versus-a-copy\n",
            "  errors=errors,\n"
          ]
        }
      ],
      "metadata": {
        "execution": {
          "iopub.execute_input": "2021-04-04T18:05:24.599869Z",
          "iopub.status.busy": "2021-04-04T18:05:24.599180Z",
          "iopub.status.idle": "2021-04-04T18:05:24.615667Z",
          "shell.execute_reply": "2021-04-04T18:05:24.616127Z"
        },
        "papermill": {
          "duration": 0.073429,
          "end_time": "2021-04-04T18:05:24.616333",
          "exception": false,
          "start_time": "2021-04-04T18:05:24.542904",
          "status": "completed"
        },
        "tags": [],
        "colab": {
          "base_uri": "https://localhost:8080/"
        },
        "id": "Jt2cHryswnlo",
        "outputId": "eaea6e80-999b-45a7-86e5-eb7b874d1740"
      }
    },
    {
      "cell_type": "code",
      "execution_count": null,
      "source": [
        "sns.countplot(x = 'airline_sentiment' , data = tweet)\n",
        "plt.savefig('destination_path.pdf', format='pdf',bbox_inches = 'tight',\n",
        "    pad_inches = 0)\n",
        "plt.show()"
      ],
      "outputs": [
        {
          "output_type": "display_data",
          "data": {
            "text/plain": [
              "<Figure size 432x288 with 1 Axes>"
            ],
            "image/png": "[encoded data removed]"
          },
          "metadata": {
            "needs_background": "light"
          }
        }
      ],
      "metadata": {
        "execution": {
          "iopub.execute_input": "2021-04-04T18:05:24.729433Z",
          "iopub.status.busy": "2021-04-04T18:05:24.728660Z",
          "iopub.status.idle": "2021-04-04T18:05:24.968563Z",
          "shell.execute_reply": "2021-04-04T18:05:24.969069Z"
        },
        "papermill": {
          "duration": 0.299138,
          "end_time": "2021-04-04T18:05:24.969242",
          "exception": false,
          "start_time": "2021-04-04T18:05:24.670104",
          "status": "completed"
        },
        "tags": [],
        "colab": {
          "base_uri": "https://localhost:8080/",
          "height": 280
        },
        "id": "D3i4ThEwwnlo",
        "outputId": "bcd4bfc0-17a9-460c-f9b0-c524498b6c13"
      }
    },
    {
      "cell_type": "code",
      "execution_count": null,
      "source": [
        "tweet.shape"
      ],
      "outputs": [
        {
          "output_type": "execute_result",
          "data": {
            "text/plain": [
              "(11541, 2)"
            ]
          },
          "metadata": {},
          "execution_count": 17
        }
      ],
      "metadata": {
        "execution": {
          "iopub.execute_input": "2021-04-04T18:05:25.079374Z",
          "iopub.status.busy": "2021-04-04T18:05:25.078617Z",
          "iopub.status.idle": "2021-04-04T18:05:25.083526Z",
          "shell.execute_reply": "2021-04-04T18:05:25.084138Z"
        },
        "papermill": {
          "duration": 0.06171,
          "end_time": "2021-04-04T18:05:25.084310",
          "exception": false,
          "start_time": "2021-04-04T18:05:25.022600",
          "status": "completed"
        },
        "tags": [],
        "colab": {
          "base_uri": "https://localhost:8080/"
        },
        "id": "EUBzdSxXwnlo",
        "outputId": "174640b4-7533-4f7b-f527-ecb04c95ea6d"
      }
    },
    {
      "cell_type": "code",
      "execution_count": null,
      "source": [
        "label = pd.get_dummies(tweet[\"airline_sentiment\"])\n",
        "final_labels = label['positive'] #1 for positive and 0 for negative."
      ],
      "outputs": [],
      "metadata": {
        "execution": {
          "iopub.execute_input": "2021-04-04T18:05:25.195880Z",
          "iopub.status.busy": "2021-04-04T18:05:25.195224Z",
          "iopub.status.idle": "2021-04-04T18:05:25.205287Z",
          "shell.execute_reply": "2021-04-04T18:05:25.204700Z"
        },
        "papermill": {
          "duration": 0.066851,
          "end_time": "2021-04-04T18:05:25.205449",
          "exception": false,
          "start_time": "2021-04-04T18:05:25.138598",
          "status": "completed"
        },
        "tags": [],
        "id": "nHeyzB56wnlp"
      }
    },
    {
      "cell_type": "code",
      "execution_count": null,
      "source": [
        "label.shape"
      ],
      "outputs": [
        {
          "output_type": "execute_result",
          "data": {
            "text/plain": [
              "(11541, 2)"
            ]
          },
          "metadata": {},
          "execution_count": 19
        }
      ],
      "metadata": {
        "execution": {
          "iopub.execute_input": "2021-04-04T18:05:25.319861Z",
          "iopub.status.busy": "2021-04-04T18:05:25.318741Z",
          "iopub.status.idle": "2021-04-04T18:05:25.323922Z",
          "shell.execute_reply": "2021-04-04T18:05:25.323341Z"
        },
        "papermill": {
          "duration": 0.064528,
          "end_time": "2021-04-04T18:05:25.324092",
          "exception": false,
          "start_time": "2021-04-04T18:05:25.259564",
          "status": "completed"
        },
        "tags": [],
        "colab": {
          "base_uri": "https://localhost:8080/"
        },
        "id": "acZAbgsiwnlp",
        "outputId": "47466763-ee17-475d-ced3-6d323ce2e2b5"
      }
    },
    {
      "cell_type": "code",
      "execution_count": null,
      "source": [
        "label"
      ],
      "outputs": [
        {
          "output_type": "execute_result",
          "data": {
            "text/plain": [
              "       negative  positive\n",
              "1             0         1\n",
              "3             1         0\n",
              "4             1         0\n",
              "5             1         0\n",
              "6             0         1\n",
              "...         ...       ...\n",
              "14633         1         0\n",
              "14634         1         0\n",
              "14635         0         1\n",
              "14636         1         0\n",
              "14638         1         0\n",
              "\n",
              "[11541 rows x 2 columns]"
            ],
            "text/html": [
              "\n",
              "  <div id=\"df-c4f508bd-0ee4-4990-a747-6a7925707984\">\n",
              "    <div class=\"colab-df-container\">\n",
              "      <div>\n",
              "<style scoped>\n",
              "    .dataframe tbody tr th:only-of-type {\n",
              "        vertical-align: middle;\n",
              "    }\n",
              "\n",
              "    .dataframe tbody tr th {\n",
              "        vertical-align: top;\n",
              "    }\n",
              "\n",
              "    .dataframe thead th {\n",
              "        text-align: right;\n",
              "    }\n",
              "</style>\n",
              "<table border=\"1\" class=\"dataframe\">\n",
              "  <thead>\n",
              "    <tr style=\"text-align: right;\">\n",
              "      <th></th>\n",
              "      <th>negative</th>\n",
              "      <th>positive</th>\n",
              "    </tr>\n",
              "  </thead>\n",
              "  <tbody>\n",
              "    <tr>\n",
              "      <th>1</th>\n",
              "      <td>0</td>\n",
              "      <td>1</td>\n",
              "    </tr>\n",
              "    <tr>\n",
              "      <th>3</th>\n",
              "      <td>1</td>\n",
              "      <td>0</td>\n",
              "    </tr>\n",
              "    <tr>\n",
              "      <th>4</th>\n",
              "      <td>1</td>\n",
              "      <td>0</td>\n",
              "    </tr>\n",
              "    <tr>\n",
              "      <th>5</th>\n",
              "      <td>1</td>\n",
              "      <td>0</td>\n",
              "    </tr>\n",
              "    <tr>\n",
              "      <th>6</th>\n",
              "      <td>0</td>\n",
              "      <td>1</td>\n",
              "    </tr>\n",
              "    <tr>\n",
              "      <th>...</th>\n",
              "      <td>...</td>\n",
              "      <td>...</td>\n",
              "    </tr>\n",
              "    <tr>\n",
              "      <th>14633</th>\n",
              "      <td>1</td>\n",
              "      <td>0</td>\n",
              "    </tr>\n",
              "    <tr>\n",
              "      <th>14634</th>\n",
              "      <td>1</td>\n",
              "      <td>0</td>\n",
              "    </tr>\n",
              "    <tr>\n",
              "      <th>14635</th>\n",
              "      <td>0</td>\n",
              "      <td>1</td>\n",
              "    </tr>\n",
              "    <tr>\n",
              "      <th>14636</th>\n",
              "      <td>1</td>\n",
              "      <td>0</td>\n",
              "    </tr>\n",
              "    <tr>\n",
              "      <th>14638</th>\n",
              "      <td>1</td>\n",
              "      <td>0</td>\n",
              "    </tr>\n",
              "  </tbody>\n",
              "</table>\n",
              "<p>11541 rows × 2 columns</p>\n",
              "</div>\n",
              "      <button class=\"colab-df-convert\" onclick=\"convertToInteractive('df-c4f508bd-0ee4-4990-a747-6a7925707984')\"\n",
              "              title=\"Convert this dataframe to an interactive table.\"\n",
              "              style=\"display:none;\">\n",
              "        \n",
              "  <svg xmlns=\"http://www.w3.org/2000/svg\" height=\"24px\"viewBox=\"0 0 24 24\"\n",
              "       width=\"24px\">\n",
              "    <path d=\"M0 0h24v24H0V0z\" fill=\"none\"/>\n",
              "    <path d=\"M18.56 5.44l.94 2.06.94-2.06 2.06-.94-2.06-.94-.94-2.06-.94 2.06-2.06.94zm-11 1L8.5 8.5l.94-2.06 2.06-.94-2.06-.94L8.5 2.5l-.94 2.06-2.06.94zm10 10l.94 2.06.94-2.06 2.06-.94-2.06-.94-.94-2.06-.94 2.06-2.06.94z\"/><path d=\"M17.41 7.96l-1.37-1.37c-.4-.4-.92-.59-1.43-.59-.52 0-1.04.2-1.43.59L10.3 9.45l-7.72 7.72c-.78.78-.78 2.05 0 2.83L4 21.41c.39.39.9.59 1.41.59.51 0 1.02-.2 1.41-.59l7.78-7.78 2.81-2.81c.8-.78.8-2.07 0-2.86zM5.41 20L4 18.59l7.72-7.72 1.47 1.35L5.41 20z\"/>\n",
              "  </svg>\n",
              "      </button>\n",
              "      \n",
              "  <style>\n",
              "    .colab-df-container {\n",
              "      display:flex;\n",
              "      flex-wrap:wrap;\n",
              "      gap: 12px;\n",
              "    }\n",
              "\n",
              "    .colab-df-convert {\n",
              "      background-color: #E8F0FE;\n",
              "      border: none;\n",
              "      border-radius: 50%;\n",
              "      cursor: pointer;\n",
              "      display: none;\n",
              "      fill: #1967D2;\n",
              "      height: 32px;\n",
              "      padding: 0 0 0 0;\n",
              "      width: 32px;\n",
              "    }\n",
              "\n",
              "    .colab-df-convert:hover {\n",
              "      background-color: #E2EBFA;\n",
              "      box-shadow: 0px 1px 2px rgba(60, 64, 67, 0.3), 0px 1px 3px 1px rgba(60, 64, 67, 0.15);\n",
              "      fill: #174EA6;\n",
              "    }\n",
              "\n",
              "    [theme=dark] .colab-df-convert {\n",
              "      background-color: #3B4455;\n",
              "      fill: #D2E3FC;\n",
              "    }\n",
              "\n",
              "    [theme=dark] .colab-df-convert:hover {\n",
              "      background-color: #434B5C;\n",
              "      box-shadow: 0px 1px 3px 1px rgba(0, 0, 0, 0.15);\n",
              "      filter: drop-shadow(0px 1px 2px rgba(0, 0, 0, 0.3));\n",
              "      fill: #FFFFFF;\n",
              "    }\n",
              "  </style>\n",
              "\n",
              "      <script>\n",
              "        const buttonEl =\n",
              "          document.querySelector('#df-c4f508bd-0ee4-4990-a747-6a7925707984 button.colab-df-convert');\n",
              "        buttonEl.style.display =\n",
              "          google.colab.kernel.accessAllowed ? 'block' : 'none';\n",
              "\n",
              "        async function convertToInteractive(key) {\n",
              "          const element = document.querySelector('#df-c4f508bd-0ee4-4990-a747-6a7925707984');\n",
              "          const dataTable =\n",
              "            await google.colab.kernel.invokeFunction('convertToInteractive',\n",
              "                                                     [key], {});\n",
              "          if (!dataTable) return;\n",
              "\n",
              "          const docLinkHtml = 'Like what you see? Visit the ' +\n",
              "            '<a target=\"_blank\" href=https://colab.research.google.com/notebooks/data_table.ipynb>data table notebook</a>'\n",
              "            + ' to learn more about interactive tables.';\n",
              "          element.innerHTML = '';\n",
              "          dataTable['output_type'] = 'display_data';\n",
              "          await google.colab.output.renderOutput(dataTable, element);\n",
              "          const docLink = document.createElement('div');\n",
              "          docLink.innerHTML = docLinkHtml;\n",
              "          element.appendChild(docLink);\n",
              "        }\n",
              "      </script>\n",
              "    </div>\n",
              "  </div>\n",
              "  "
            ]
          },
          "metadata": {},
          "execution_count": 20
        }
      ],
      "metadata": {
        "execution": {
          "iopub.execute_input": "2021-04-04T18:05:25.446297Z",
          "iopub.status.busy": "2021-04-04T18:05:25.445611Z",
          "iopub.status.idle": "2021-04-04T18:05:25.449982Z",
          "shell.execute_reply": "2021-04-04T18:05:25.449342Z"
        },
        "papermill": {
          "duration": 0.070742,
          "end_time": "2021-04-04T18:05:25.450139",
          "exception": false,
          "start_time": "2021-04-04T18:05:25.379397",
          "status": "completed"
        },
        "tags": [],
        "colab": {
          "base_uri": "https://localhost:8080/",
          "height": 424
        },
        "id": "7qC1N_Pmwnlp",
        "outputId": "9c3c7fef-3520-40d0-b3a2-94a70d5b162d"
      }
    },
    {
      "cell_type": "code",
      "execution_count": null,
      "source": [
        "final_labels"
      ],
      "outputs": [
        {
          "output_type": "execute_result",
          "data": {
            "text/plain": [
              "1        1\n",
              "3        0\n",
              "4        0\n",
              "5        0\n",
              "6        1\n",
              "        ..\n",
              "14633    0\n",
              "14634    0\n",
              "14635    1\n",
              "14636    0\n",
              "14638    0\n",
              "Name: positive, Length: 11541, dtype: uint8"
            ]
          },
          "metadata": {},
          "execution_count": 21
        }
      ],
      "metadata": {
        "execution": {
          "iopub.execute_input": "2021-04-04T18:05:25.566713Z",
          "iopub.status.busy": "2021-04-04T18:05:25.565975Z",
          "iopub.status.idle": "2021-04-04T18:05:25.570945Z",
          "shell.execute_reply": "2021-04-04T18:05:25.570336Z"
        },
        "papermill": {
          "duration": 0.065912,
          "end_time": "2021-04-04T18:05:25.571082",
          "exception": false,
          "start_time": "2021-04-04T18:05:25.505170",
          "status": "completed"
        },
        "tags": [],
        "colab": {
          "base_uri": "https://localhost:8080/"
        },
        "id": "L6Tt9Pfownlp",
        "outputId": "8d6784f9-b6b2-49fa-ff3c-34661b4fb562"
      }
    },
    {
      "cell_type": "code",
      "execution_count": null,
      "source": [
        "## DATA Cleaning"
      ],
      "outputs": [],
      "metadata": {
        "execution": {
          "iopub.execute_input": "2021-04-04T18:05:25.686845Z",
          "iopub.status.busy": "2021-04-04T18:05:25.686064Z",
          "iopub.status.idle": "2021-04-04T18:05:25.689136Z",
          "shell.execute_reply": "2021-04-04T18:05:25.688497Z"
        },
        "papermill": {
          "duration": 0.062854,
          "end_time": "2021-04-04T18:05:25.689285",
          "exception": false,
          "start_time": "2021-04-04T18:05:25.626431",
          "status": "completed"
        },
        "tags": [],
        "id": "X_2lOHZwwnlp"
      }
    },
    {
      "cell_type": "code",
      "execution_count": null,
      "source": [
        "import string\n",
        "string.punctuation"
      ],
      "outputs": [
        {
          "output_type": "execute_result",
          "data": {
            "text/plain": [
              "'!\"#$%&\\'()*+,-./:;<=>?@[\\\\]^_`{|}~'"
            ],
            "application/vnd.google.colaboratory.intrinsic+json": {
              "type": "string"
            }
          },
          "metadata": {},
          "execution_count": 23
        }
      ],
      "metadata": {
        "execution": {
          "iopub.execute_input": "2021-04-04T18:05:25.807006Z",
          "iopub.status.busy": "2021-04-04T18:05:25.806313Z",
          "iopub.status.idle": "2021-04-04T18:05:25.811189Z",
          "shell.execute_reply": "2021-04-04T18:05:25.810570Z"
        },
        "papermill": {
          "duration": 0.065908,
          "end_time": "2021-04-04T18:05:25.811329",
          "exception": false,
          "start_time": "2021-04-04T18:05:25.745421",
          "status": "completed"
        },
        "scrolled": true,
        "tags": [],
        "colab": {
          "base_uri": "https://localhost:8080/",
          "height": 35
        },
        "id": "vErqCsz5wnlp",
        "outputId": "c3d765d5-f5da-4fd8-f2ce-b4e5210bb35b"
      }
    },
    {
      "cell_type": "code",
      "execution_count": null,
      "source": [
        "from nltk.corpus import stopwords\n",
        "from sklearn.feature_extraction.text import CountVectorizer"
      ],
      "outputs": [],
      "metadata": {
        "execution": {
          "iopub.execute_input": "2021-04-04T18:05:25.928934Z",
          "iopub.status.busy": "2021-04-04T18:05:25.928203Z",
          "iopub.status.idle": "2021-04-04T18:05:26.798422Z",
          "shell.execute_reply": "2021-04-04T18:05:26.797742Z"
        },
        "papermill": {
          "duration": 0.931413,
          "end_time": "2021-04-04T18:05:26.798584",
          "exception": false,
          "start_time": "2021-04-04T18:05:25.867171",
          "status": "completed"
        },
        "tags": [],
        "id": "E-zC_ny3wnlp"
      }
    },
    {
      "cell_type": "code",
      "execution_count": null,
      "source": [
        "def text_cleaning(text):\n",
        "    remv_punc = [char for char in text.lower() if char not in string.punctuation]\n",
        "    remv_punc_join = ''.join(remv_punc)\n",
        "    remv_punc_clean = [word for word in remv_punc_join.split() if word.lower() not in stopwords.words('english')]\n",
        "    return np.array(remv_punc_clean)"
      ],
      "outputs": [],
      "metadata": {
        "execution": {
          "iopub.execute_input": "2021-04-04T18:05:26.924261Z",
          "iopub.status.busy": "2021-04-04T18:05:26.921300Z",
          "iopub.status.idle": "2021-04-04T18:05:26.927289Z",
          "shell.execute_reply": "2021-04-04T18:05:26.926793Z"
        },
        "papermill": {
          "duration": 0.071262,
          "end_time": "2021-04-04T18:05:26.927450",
          "exception": false,
          "start_time": "2021-04-04T18:05:26.856188",
          "status": "completed"
        },
        "tags": [],
        "id": "s4RK1Dkwwnlp"
      }
    },
    {
      "cell_type": "code",
      "source": [
        "import nltk\n",
        "nltk.download(\"stopwords\")"
      ],
      "metadata": {
        "colab": {
          "base_uri": "https://localhost:8080/"
        },
        "id": "XoV2lZ3PxmGn",
        "outputId": "1b76226e-8d55-4b5f-f251-b667a3fb105c"
      },
      "execution_count": null,
      "outputs": [
        {
          "output_type": "stream",
          "name": "stderr",
          "text": [
            "[nltk_data] Downloading package stopwords to /root/nltk_data...\n",
            "[nltk_data]   Unzipping corpora/stopwords.zip.\n"
          ]
        },
        {
          "output_type": "execute_result",
          "data": {
            "text/plain": [
              "True"
            ]
          },
          "metadata": {},
          "execution_count": 28
        }
      ]
    },
    {
      "cell_type": "code",
      "execution_count": null,
      "source": [
        "#Lets visualize the newly created function\n",
        "tweet['clean'] = tweet['text'].apply(text_cleaning)"
      ],
      "outputs": [
        {
          "output_type": "stream",
          "name": "stderr",
          "text": [
            "/usr/local/lib/python3.7/dist-packages/ipykernel_launcher.py:2: SettingWithCopyWarning: \n",
            "A value is trying to be set on a copy of a slice from a DataFrame.\n",
            "Try using .loc[row_indexer,col_indexer] = value instead\n",
            "\n",
            "See the caveats in the documentation: https://pandas.pydata.org/pandas-docs/stable/user_guide/indexing.html#returning-a-view-versus-a-copy\n",
            "  \n"
          ]
        }
      ],
      "metadata": {
        "execution": {
          "iopub.execute_input": "2021-04-04T18:05:27.048499Z",
          "iopub.status.busy": "2021-04-04T18:05:27.047768Z",
          "iopub.status.idle": "2021-04-04T18:05:54.073032Z",
          "shell.execute_reply": "2021-04-04T18:05:54.072472Z"
        },
        "papermill": {
          "duration": 27.088077,
          "end_time": "2021-04-04T18:05:54.073220",
          "exception": false,
          "start_time": "2021-04-04T18:05:26.985143",
          "status": "completed"
        },
        "tags": [],
        "colab": {
          "base_uri": "https://localhost:8080/"
        },
        "id": "oGQqz_LDwnlp",
        "outputId": "c094a240-749c-4408-c0a0-01ec6f4ff7bc"
      }
    },
    {
      "cell_type": "code",
      "execution_count": null,
      "source": [
        "tweet['clean'].shape"
      ],
      "outputs": [
        {
          "output_type": "execute_result",
          "data": {
            "text/plain": [
              "(11541,)"
            ]
          },
          "metadata": {},
          "execution_count": 30
        }
      ],
      "metadata": {
        "execution": {
          "iopub.execute_input": "2021-04-04T18:05:54.196106Z",
          "iopub.status.busy": "2021-04-04T18:05:54.195343Z",
          "iopub.status.idle": "2021-04-04T18:05:54.200327Z",
          "shell.execute_reply": "2021-04-04T18:05:54.199682Z"
        },
        "papermill": {
          "duration": 0.067619,
          "end_time": "2021-04-04T18:05:54.200486",
          "exception": false,
          "start_time": "2021-04-04T18:05:54.132867",
          "status": "completed"
        },
        "tags": [],
        "colab": {
          "base_uri": "https://localhost:8080/"
        },
        "id": "NjAKLEhrwnlp",
        "outputId": "ab47b446-49ea-4702-9b66-24d2aab9726d"
      }
    },
    {
      "cell_type": "code",
      "execution_count": null,
      "source": [
        "tweet.head()"
      ],
      "outputs": [
        {
          "output_type": "execute_result",
          "data": {
            "text/plain": [
              "  airline_sentiment                                               text  \\\n",
              "1          positive  @VirginAmerica plus you've added commercials t...   \n",
              "3          negative  @VirginAmerica it's really aggressive to blast...   \n",
              "4          negative  @VirginAmerica and it's a really big bad thing...   \n",
              "5          negative  @VirginAmerica seriously would pay $30 a fligh...   \n",
              "6          positive  @VirginAmerica yes, nearly every time I fly VX...   \n",
              "\n",
              "                                               clean  \n",
              "1  [virginamerica, plus, youve, added, commercial...  \n",
              "3  [virginamerica, really, aggressive, blast, obn...  \n",
              "4           [virginamerica, really, big, bad, thing]  \n",
              "5  [virginamerica, seriously, would, pay, 30, fli...  \n",
              "6  [virginamerica, yes, nearly, every, time, fly,...  "
            ],
            "text/html": [
              "\n",
              "  <div id=\"df-9a794cca-cbf3-4e1a-ad72-920d86ef5fbe\">\n",
              "    <div class=\"colab-df-container\">\n",
              "      <div>\n",
              "<style scoped>\n",
              "    .dataframe tbody tr th:only-of-type {\n",
              "        vertical-align: middle;\n",
              "    }\n",
              "\n",
              "    .dataframe tbody tr th {\n",
              "        vertical-align: top;\n",
              "    }\n",
              "\n",
              "    .dataframe thead th {\n",
              "        text-align: right;\n",
              "    }\n",
              "</style>\n",
              "<table border=\"1\" class=\"dataframe\">\n",
              "  <thead>\n",
              "    <tr style=\"text-align: right;\">\n",
              "      <th></th>\n",
              "      <th>airline_sentiment</th>\n",
              "      <th>text</th>\n",
              "      <th>clean</th>\n",
              "    </tr>\n",
              "  </thead>\n",
              "  <tbody>\n",
              "    <tr>\n",
              "      <th>1</th>\n",
              "      <td>positive</td>\n",
              "      <td>@VirginAmerica plus you've added commercials t...</td>\n",
              "      <td>[virginamerica, plus, youve, added, commercial...</td>\n",
              "    </tr>\n",
              "    <tr>\n",
              "      <th>3</th>\n",
              "      <td>negative</td>\n",
              "      <td>@VirginAmerica it's really aggressive to blast...</td>\n",
              "      <td>[virginamerica, really, aggressive, blast, obn...</td>\n",
              "    </tr>\n",
              "    <tr>\n",
              "      <th>4</th>\n",
              "      <td>negative</td>\n",
              "      <td>@VirginAmerica and it's a really big bad thing...</td>\n",
              "      <td>[virginamerica, really, big, bad, thing]</td>\n",
              "    </tr>\n",
              "    <tr>\n",
              "      <th>5</th>\n",
              "      <td>negative</td>\n",
              "      <td>@VirginAmerica seriously would pay $30 a fligh...</td>\n",
              "      <td>[virginamerica, seriously, would, pay, 30, fli...</td>\n",
              "    </tr>\n",
              "    <tr>\n",
              "      <th>6</th>\n",
              "      <td>positive</td>\n",
              "      <td>@VirginAmerica yes, nearly every time I fly VX...</td>\n",
              "      <td>[virginamerica, yes, nearly, every, time, fly,...</td>\n",
              "    </tr>\n",
              "  </tbody>\n",
              "</table>\n",
              "</div>\n",
              "      <button class=\"colab-df-convert\" onclick=\"convertToInteractive('df-9a794cca-cbf3-4e1a-ad72-920d86ef5fbe')\"\n",
              "              title=\"Convert this dataframe to an interactive table.\"\n",
              "              style=\"display:none;\">\n",
              "        \n",
              "  <svg xmlns=\"http://www.w3.org/2000/svg\" height=\"24px\"viewBox=\"0 0 24 24\"\n",
              "       width=\"24px\">\n",
              "    <path d=\"M0 0h24v24H0V0z\" fill=\"none\"/>\n",
              "    <path d=\"M18.56 5.44l.94 2.06.94-2.06 2.06-.94-2.06-.94-.94-2.06-.94 2.06-2.06.94zm-11 1L8.5 8.5l.94-2.06 2.06-.94-2.06-.94L8.5 2.5l-.94 2.06-2.06.94zm10 10l.94 2.06.94-2.06 2.06-.94-2.06-.94-.94-2.06-.94 2.06-2.06.94z\"/><path d=\"M17.41 7.96l-1.37-1.37c-.4-.4-.92-.59-1.43-.59-.52 0-1.04.2-1.43.59L10.3 9.45l-7.72 7.72c-.78.78-.78 2.05 0 2.83L4 21.41c.39.39.9.59 1.41.59.51 0 1.02-.2 1.41-.59l7.78-7.78 2.81-2.81c.8-.78.8-2.07 0-2.86zM5.41 20L4 18.59l7.72-7.72 1.47 1.35L5.41 20z\"/>\n",
              "  </svg>\n",
              "      </button>\n",
              "      \n",
              "  <style>\n",
              "    .colab-df-container {\n",
              "      display:flex;\n",
              "      flex-wrap:wrap;\n",
              "      gap: 12px;\n",
              "    }\n",
              "\n",
              "    .colab-df-convert {\n",
              "      background-color: #E8F0FE;\n",
              "      border: none;\n",
              "      border-radius: 50%;\n",
              "      cursor: pointer;\n",
              "      display: none;\n",
              "      fill: #1967D2;\n",
              "      height: 32px;\n",
              "      padding: 0 0 0 0;\n",
              "      width: 32px;\n",
              "    }\n",
              "\n",
              "    .colab-df-convert:hover {\n",
              "      background-color: #E2EBFA;\n",
              "      box-shadow: 0px 1px 2px rgba(60, 64, 67, 0.3), 0px 1px 3px 1px rgba(60, 64, 67, 0.15);\n",
              "      fill: #174EA6;\n",
              "    }\n",
              "\n",
              "    [theme=dark] .colab-df-convert {\n",
              "      background-color: #3B4455;\n",
              "      fill: #D2E3FC;\n",
              "    }\n",
              "\n",
              "    [theme=dark] .colab-df-convert:hover {\n",
              "      background-color: #434B5C;\n",
              "      box-shadow: 0px 1px 3px 1px rgba(0, 0, 0, 0.15);\n",
              "      filter: drop-shadow(0px 1px 2px rgba(0, 0, 0, 0.3));\n",
              "      fill: #FFFFFF;\n",
              "    }\n",
              "  </style>\n",
              "\n",
              "      <script>\n",
              "        const buttonEl =\n",
              "          document.querySelector('#df-9a794cca-cbf3-4e1a-ad72-920d86ef5fbe button.colab-df-convert');\n",
              "        buttonEl.style.display =\n",
              "          google.colab.kernel.accessAllowed ? 'block' : 'none';\n",
              "\n",
              "        async function convertToInteractive(key) {\n",
              "          const element = document.querySelector('#df-9a794cca-cbf3-4e1a-ad72-920d86ef5fbe');\n",
              "          const dataTable =\n",
              "            await google.colab.kernel.invokeFunction('convertToInteractive',\n",
              "                                                     [key], {});\n",
              "          if (!dataTable) return;\n",
              "\n",
              "          const docLinkHtml = 'Like what you see? Visit the ' +\n",
              "            '<a target=\"_blank\" href=https://colab.research.google.com/notebooks/data_table.ipynb>data table notebook</a>'\n",
              "            + ' to learn more about interactive tables.';\n",
              "          element.innerHTML = '';\n",
              "          dataTable['output_type'] = 'display_data';\n",
              "          await google.colab.output.renderOutput(dataTable, element);\n",
              "          const docLink = document.createElement('div');\n",
              "          docLink.innerHTML = docLinkHtml;\n",
              "          element.appendChild(docLink);\n",
              "        }\n",
              "      </script>\n",
              "    </div>\n",
              "  </div>\n",
              "  "
            ]
          },
          "metadata": {},
          "execution_count": 31
        }
      ],
      "metadata": {
        "execution": {
          "iopub.execute_input": "2021-04-04T18:05:54.329607Z",
          "iopub.status.busy": "2021-04-04T18:05:54.328880Z",
          "iopub.status.idle": "2021-04-04T18:05:54.333583Z",
          "shell.execute_reply": "2021-04-04T18:05:54.334090Z"
        },
        "papermill": {
          "duration": 0.076173,
          "end_time": "2021-04-04T18:05:54.334281",
          "exception": false,
          "start_time": "2021-04-04T18:05:54.258108",
          "status": "completed"
        },
        "tags": [],
        "colab": {
          "base_uri": "https://localhost:8080/",
          "height": 206
        },
        "id": "jnpXTt7ywnlp",
        "outputId": "57dad75a-a025-4006-e3f8-48dd97d52cc9"
      }
    },
    {
      "cell_type": "code",
      "execution_count": null,
      "source": [
        "#Feature extraction, text_cleaning analyzer implements the buildin cleaning process\n",
        "X_tweets = CountVectorizer(analyzer= text_cleaning, max_features=2000, dtype= 'uint8').fit_transform(tweet['text']).toarray()"
      ],
      "outputs": [],
      "metadata": {
        "execution": {
          "iopub.execute_input": "2021-04-04T18:05:54.457836Z",
          "iopub.status.busy": "2021-04-04T18:05:54.457019Z",
          "iopub.status.idle": "2021-04-04T18:06:22.504128Z",
          "shell.execute_reply": "2021-04-04T18:06:22.504762Z"
        },
        "papermill": {
          "duration": 28.11157,
          "end_time": "2021-04-04T18:06:22.504988",
          "exception": false,
          "start_time": "2021-04-04T18:05:54.393418",
          "status": "completed"
        },
        "tags": [],
        "id": "lpt-Vellwnlq"
      }
    },
    {
      "cell_type": "code",
      "execution_count": null,
      "source": [
        "X_tweets.shape"
      ],
      "outputs": [
        {
          "output_type": "execute_result",
          "data": {
            "text/plain": [
              "(11541, 2000)"
            ]
          },
          "metadata": {},
          "execution_count": 33
        }
      ],
      "metadata": {
        "execution": {
          "iopub.execute_input": "2021-04-04T18:06:22.626021Z",
          "iopub.status.busy": "2021-04-04T18:06:22.625272Z",
          "iopub.status.idle": "2021-04-04T18:06:22.633633Z",
          "shell.execute_reply": "2021-04-04T18:06:22.633048Z"
        },
        "papermill": {
          "duration": 0.070104,
          "end_time": "2021-04-04T18:06:22.633801",
          "exception": false,
          "start_time": "2021-04-04T18:06:22.563697",
          "status": "completed"
        },
        "tags": [],
        "colab": {
          "base_uri": "https://localhost:8080/"
        },
        "id": "gzK_g8RHwnlq",
        "outputId": "a693a6ce-0b15-402a-8551-6db351e4d272"
      }
    },
    {
      "cell_type": "code",
      "execution_count": null,
      "source": [
        "from sklearn.model_selection import train_test_split\n",
        "X_train, X_test, y_train, y_test = train_test_split(X_tweets, final_labels, test_size = 0.2, random_state = 1, stratify =final_labels)"
      ],
      "outputs": [],
      "metadata": {
        "execution": {
          "iopub.execute_input": "2021-04-04T18:06:22.780702Z",
          "iopub.status.busy": "2021-04-04T18:06:22.779658Z",
          "iopub.status.idle": "2021-04-04T18:06:22.809415Z",
          "shell.execute_reply": "2021-04-04T18:06:22.808618Z"
        },
        "papermill": {
          "duration": 0.11103,
          "end_time": "2021-04-04T18:06:22.809639",
          "exception": false,
          "start_time": "2021-04-04T18:06:22.698609",
          "status": "completed"
        },
        "tags": [],
        "id": "lW2h_2fVwnlq"
      }
    },
    {
      "cell_type": "code",
      "execution_count": null,
      "source": [
        "from sklearn.naive_bayes import MultinomialNB\n",
        "\n",
        "NaiveBclassifier = MultinomialNB()\n",
        "NaiveBclassifier.fit(X_train,y_train)"
      ],
      "outputs": [
        {
          "output_type": "execute_result",
          "data": {
            "text/plain": [
              "MultinomialNB()"
            ]
          },
          "metadata": {},
          "execution_count": 35
        }
      ],
      "metadata": {
        "execution": {
          "iopub.execute_input": "2021-04-04T18:06:22.937213Z",
          "iopub.status.busy": "2021-04-04T18:06:22.936571Z",
          "iopub.status.idle": "2021-04-04T18:06:23.255686Z",
          "shell.execute_reply": "2021-04-04T18:06:23.256187Z"
        },
        "papermill": {
          "duration": 0.383249,
          "end_time": "2021-04-04T18:06:23.256402",
          "exception": false,
          "start_time": "2021-04-04T18:06:22.873153",
          "status": "completed"
        },
        "tags": [],
        "colab": {
          "base_uri": "https://localhost:8080/"
        },
        "id": "bW2tscuzwnlq",
        "outputId": "3412f3cd-d142-4e14-fe69-735c5e3aa773"
      }
    },
    {
      "cell_type": "code",
      "execution_count": null,
      "source": [
        "# Predicting test cases\n",
        "y_pred_test = NaiveBclassifier.predict(X_test)"
      ],
      "outputs": [],
      "metadata": {
        "execution": {
          "iopub.execute_input": "2021-04-04T18:06:23.381845Z",
          "iopub.status.busy": "2021-04-04T18:06:23.381178Z",
          "iopub.status.idle": "2021-04-04T18:06:23.403843Z",
          "shell.execute_reply": "2021-04-04T18:06:23.404705Z"
        },
        "papermill": {
          "duration": 0.088247,
          "end_time": "2021-04-04T18:06:23.404976",
          "exception": false,
          "start_time": "2021-04-04T18:06:23.316729",
          "status": "completed"
        },
        "tags": [],
        "id": "lBFEphKlwnlq"
      }
    },
    {
      "cell_type": "code",
      "execution_count": null,
      "source": [
        "from sklearn import metrics\n",
        "from sklearn.metrics import accuracy_score\n",
        "accuracyNaaive = accuracy_score(list(y_pred_test), y_test)\n",
        "\n",
        "print (\"The model accuracy is :\", accuracyNaaive)"
      ],
      "outputs": [
        {
          "output_type": "stream",
          "name": "stdout",
          "text": [
            "The model accuracy is : 0.9047206582936336\n"
          ]
        }
      ],
      "metadata": {
        "execution": {
          "iopub.execute_input": "2021-04-04T18:06:23.582657Z",
          "iopub.status.busy": "2021-04-04T18:06:23.581860Z",
          "iopub.status.idle": "2021-04-04T18:06:23.588374Z",
          "shell.execute_reply": "2021-04-04T18:06:23.587719Z"
        },
        "papermill": {
          "duration": 0.07594,
          "end_time": "2021-04-04T18:06:23.588541",
          "exception": false,
          "start_time": "2021-04-04T18:06:23.512601",
          "status": "completed"
        },
        "tags": [],
        "colab": {
          "base_uri": "https://localhost:8080/"
        },
        "id": "c3xKz0hZwnlq",
        "outputId": "22968aa0-3bd5-4c27-b810-161e316c5812"
      }
    },
    {
      "cell_type": "code",
      "execution_count": null,
      "source": [
        "from keras.models import Sequential\n",
        "from keras.layers import Dense,  Flatten, Dropout\n",
        "import keras.backend as K"
      ],
      "outputs": [],
      "metadata": {
        "execution": {
          "iopub.execute_input": "2021-04-04T18:06:23.712052Z",
          "iopub.status.busy": "2021-04-04T18:06:23.711391Z",
          "iopub.status.idle": "2021-04-04T18:06:23.716646Z",
          "shell.execute_reply": "2021-04-04T18:06:23.717150Z"
        },
        "papermill": {
          "duration": 0.06885,
          "end_time": "2021-04-04T18:06:23.717327",
          "exception": false,
          "start_time": "2021-04-04T18:06:23.648477",
          "status": "completed"
        },
        "tags": [],
        "id": "ERepU8knwnlq"
      }
    },
    {
      "cell_type": "code",
      "execution_count": null,
      "source": [
        "X_train.shape"
      ],
      "outputs": [
        {
          "output_type": "execute_result",
          "data": {
            "text/plain": [
              "(9232, 2000)"
            ]
          },
          "metadata": {},
          "execution_count": 39
        }
      ],
      "metadata": {
        "execution": {
          "iopub.execute_input": "2021-04-04T18:06:23.843637Z",
          "iopub.status.busy": "2021-04-04T18:06:23.842609Z",
          "iopub.status.idle": "2021-04-04T18:06:23.847544Z",
          "shell.execute_reply": "2021-04-04T18:06:23.848026Z"
        },
        "papermill": {
          "duration": 0.070808,
          "end_time": "2021-04-04T18:06:23.848240",
          "exception": false,
          "start_time": "2021-04-04T18:06:23.777432",
          "status": "completed"
        },
        "tags": [],
        "colab": {
          "base_uri": "https://localhost:8080/"
        },
        "id": "T0tEUmzkwnlq",
        "outputId": "a90b7275-23a2-4a02-8860-efa00fbd847f"
      }
    },
    {
      "cell_type": "code",
      "execution_count": null,
      "source": [
        "y_train.shape"
      ],
      "outputs": [
        {
          "output_type": "execute_result",
          "data": {
            "text/plain": [
              "(9232,)"
            ]
          },
          "metadata": {},
          "execution_count": 40
        }
      ],
      "metadata": {
        "execution": {
          "iopub.execute_input": "2021-04-04T18:06:23.976252Z",
          "iopub.status.busy": "2021-04-04T18:06:23.975559Z",
          "iopub.status.idle": "2021-04-04T18:06:23.979824Z",
          "shell.execute_reply": "2021-04-04T18:06:23.980272Z"
        },
        "papermill": {
          "duration": 0.070414,
          "end_time": "2021-04-04T18:06:23.980471",
          "exception": false,
          "start_time": "2021-04-04T18:06:23.910057",
          "status": "completed"
        },
        "tags": [],
        "colab": {
          "base_uri": "https://localhost:8080/"
        },
        "id": "Eioc16gywnlq",
        "outputId": "974bc4c6-f3e2-4545-86f8-b760e8a35d56"
      }
    },
    {
      "cell_type": "markdown",
      "source": [
        "\n",
        "hh = model.fit(x = X_train, y = y_train, validation_data=0.1, epochs=1, verbose=1, batch_size = 128)"
      ],
      "metadata": {
        "_kg_hide-output": true,
        "papermill": {
          "duration": 0.060803,
          "end_time": "2021-04-04T18:06:24.102846",
          "exception": false,
          "start_time": "2021-04-04T18:06:24.042043",
          "status": "completed"
        },
        "tags": [],
        "id": "n6kUQ4Wvwnlq"
      }
    },
    {
      "cell_type": "code",
      "execution_count": null,
      "source": [
        "from sklearn.neural_network import MLPClassifier\n",
        "NNclf = MLPClassifier(solver='lbfgs', alpha=1e-5,\n",
        "                     hidden_layer_sizes=(12, 1), random_state=1) #12 units of neurons of HL\n",
        "NNclf.fit(X_train, y_train)\n",
        "ypredNN = NNclf.predict(X_test)\n",
        "metrics.accuracy_score(y_test, ypredNN)"
      ],
      "outputs": [
        {
          "output_type": "execute_result",
          "data": {
            "text/plain": [
              "0.7951494153313122"
            ]
          },
          "metadata": {},
          "execution_count": 41
        }
      ],
      "metadata": {
        "execution": {
          "iopub.execute_input": "2021-04-04T18:06:24.230252Z",
          "iopub.status.busy": "2021-04-04T18:06:24.229320Z",
          "iopub.status.idle": "2021-04-04T18:06:25.564631Z",
          "shell.execute_reply": "2021-04-04T18:06:25.565659Z"
        },
        "papermill": {
          "duration": 1.402399,
          "end_time": "2021-04-04T18:06:25.565934",
          "exception": false,
          "start_time": "2021-04-04T18:06:24.163535",
          "status": "completed"
        },
        "tags": [],
        "colab": {
          "base_uri": "https://localhost:8080/"
        },
        "id": "V8YJTq7Iwnlr",
        "outputId": "ab5adf3b-7899-4cec-9001-be5e7b3329c9"
      }
    },
    {
      "cell_type": "code",
      "execution_count": null,
      "source": [
        "ypredNNtrain = NNclf.predict(X_train) \n",
        "\n",
        "accuracynntrain = accuracy_score(list(y_pred_test), y_test)\n",
        "\n",
        "print (\"The model accuracy on training data is :\", accuracynntrain)  #"
      ],
      "outputs": [
        {
          "output_type": "stream",
          "name": "stdout",
          "text": [
            "The model accuracy on training data is : 0.9047206582936336\n"
          ]
        }
      ],
      "metadata": {
        "execution": {
          "iopub.execute_input": "2021-04-04T18:06:25.751176Z",
          "iopub.status.busy": "2021-04-04T18:06:25.750267Z",
          "iopub.status.idle": "2021-04-04T18:06:26.099930Z",
          "shell.execute_reply": "2021-04-04T18:06:26.100453Z"
        },
        "papermill": {
          "duration": 0.417447,
          "end_time": "2021-04-04T18:06:26.100637",
          "exception": false,
          "start_time": "2021-04-04T18:06:25.683190",
          "status": "completed"
        },
        "tags": [],
        "colab": {
          "base_uri": "https://localhost:8080/"
        },
        "id": "7ePHsjOFwnlr",
        "outputId": "dbd99e49-36d5-4949-f5f5-a24fb9c5a2ca"
      }
    },
    {
      "cell_type": "code",
      "execution_count": null,
      "source": [
        "from sklearn.metrics import f1_score\n",
        "from sklearn.metrics import precision_score\n",
        "from sklearn.metrics import recall_score"
      ],
      "outputs": [],
      "metadata": {
        "execution": {
          "iopub.execute_input": "2021-04-04T18:06:26.231097Z",
          "iopub.status.busy": "2021-04-04T18:06:26.230094Z",
          "iopub.status.idle": "2021-04-04T18:06:26.233584Z",
          "shell.execute_reply": "2021-04-04T18:06:26.232915Z"
        },
        "papermill": {
          "duration": 0.071138,
          "end_time": "2021-04-04T18:06:26.233747",
          "exception": false,
          "start_time": "2021-04-04T18:06:26.162609",
          "status": "completed"
        },
        "tags": [],
        "id": "sLMa6lvFwnlr"
      }
    },
    {
      "cell_type": "markdown",
      "source": [
        "## Recall, Precision and F1 score for ANN****"
      ],
      "metadata": {
        "papermill": {
          "duration": 0.061723,
          "end_time": "2021-04-04T18:06:26.357551",
          "exception": false,
          "start_time": "2021-04-04T18:06:26.295828",
          "status": "completed"
        },
        "tags": [],
        "id": "O8WyPrSYwnlr"
      }
    },
    {
      "cell_type": "code",
      "execution_count": null,
      "source": [
        "f1_score(y_test, ypredNN, average='weighted')"
      ],
      "outputs": [
        {
          "output_type": "execute_result",
          "data": {
            "text/plain": [
              "0.7044122202886799"
            ]
          },
          "metadata": {},
          "execution_count": 44
        }
      ],
      "metadata": {
        "execution": {
          "iopub.execute_input": "2021-04-04T18:06:26.489664Z",
          "iopub.status.busy": "2021-04-04T18:06:26.488609Z",
          "iopub.status.idle": "2021-04-04T18:06:26.496256Z",
          "shell.execute_reply": "2021-04-04T18:06:26.495576Z"
        },
        "papermill": {
          "duration": 0.07602,
          "end_time": "2021-04-04T18:06:26.496433",
          "exception": false,
          "start_time": "2021-04-04T18:06:26.420413",
          "status": "completed"
        },
        "tags": [],
        "colab": {
          "base_uri": "https://localhost:8080/"
        },
        "id": "LQ6e02y_wnlr",
        "outputId": "3c440395-1ad8-4b09-d28e-e2ce2e9b05f6"
      }
    },
    {
      "cell_type": "code",
      "execution_count": null,
      "source": [
        "precision_score(y_test, ypredNN, average='weighted')"
      ],
      "outputs": [
        {
          "output_type": "stream",
          "name": "stderr",
          "text": [
            "/usr/local/lib/python3.7/dist-packages/sklearn/metrics/_classification.py:1318: UndefinedMetricWarning: Precision is ill-defined and being set to 0.0 in labels with no predicted samples. Use `zero_division` parameter to control this behavior.\n",
            "  _warn_prf(average, modifier, msg_start, len(result))\n"
          ]
        },
        {
          "output_type": "execute_result",
          "data": {
            "text/plain": [
              "0.6322625927017277"
            ]
          },
          "metadata": {},
          "execution_count": 45
        }
      ],
      "metadata": {
        "execution": {
          "iopub.execute_input": "2021-04-04T18:06:26.628833Z",
          "iopub.status.busy": "2021-04-04T18:06:26.628154Z",
          "iopub.status.idle": "2021-04-04T18:06:26.638192Z",
          "shell.execute_reply": "2021-04-04T18:06:26.637571Z"
        },
        "papermill": {
          "duration": 0.078193,
          "end_time": "2021-04-04T18:06:26.638335",
          "exception": false,
          "start_time": "2021-04-04T18:06:26.560142",
          "status": "completed"
        },
        "tags": [],
        "colab": {
          "base_uri": "https://localhost:8080/"
        },
        "id": "TjkaLX2Bwnlr",
        "outputId": "c42a91da-cbd8-460e-e13f-b29d9a6f00b6"
      }
    },
    {
      "cell_type": "code",
      "execution_count": null,
      "source": [
        "recall_score(y_test, ypredNN, average='weighted')"
      ],
      "outputs": [
        {
          "output_type": "execute_result",
          "data": {
            "text/plain": [
              "0.7951494153313122"
            ]
          },
          "metadata": {},
          "execution_count": 46
        }
      ],
      "metadata": {
        "execution": {
          "iopub.execute_input": "2021-04-04T18:06:26.771840Z",
          "iopub.status.busy": "2021-04-04T18:06:26.770988Z",
          "iopub.status.idle": "2021-04-04T18:06:26.776666Z",
          "shell.execute_reply": "2021-04-04T18:06:26.777157Z"
        },
        "papermill": {
          "duration": 0.076006,
          "end_time": "2021-04-04T18:06:26.777341",
          "exception": false,
          "start_time": "2021-04-04T18:06:26.701335",
          "status": "completed"
        },
        "tags": [],
        "colab": {
          "base_uri": "https://localhost:8080/"
        },
        "id": "HKuU3XrNwnlr",
        "outputId": "4466dd09-e203-4690-fd09-ca8832f57adb"
      }
    },
    {
      "cell_type": "code",
      "execution_count": null,
      "source": [
        "from sklearn.metrics import plot_confusion_matrix"
      ],
      "outputs": [],
      "metadata": {
        "execution": {
          "iopub.execute_input": "2021-04-04T18:06:26.908941Z",
          "iopub.status.busy": "2021-04-04T18:06:26.908162Z",
          "iopub.status.idle": "2021-04-04T18:06:26.913453Z",
          "shell.execute_reply": "2021-04-04T18:06:26.912925Z"
        },
        "papermill": {
          "duration": 0.072036,
          "end_time": "2021-04-04T18:06:26.913603",
          "exception": false,
          "start_time": "2021-04-04T18:06:26.841567",
          "status": "completed"
        },
        "tags": [],
        "id": "gstrfqrDwnlr"
      }
    },
    {
      "cell_type": "code",
      "execution_count": null,
      "source": [
        "# Confusion matrix\n",
        "plot_confusion_matrix(NNclf, X_test, y_test) \n",
        "plt.savefig('destination_path.pdf', format='pdf',bbox_inches = 'tight',\n",
        "    pad_inches = 0)\n",
        "plt.show()"
      ],
      "outputs": [
        {
          "output_type": "stream",
          "name": "stderr",
          "text": [
            "/usr/local/lib/python3.7/dist-packages/sklearn/utils/deprecation.py:87: FutureWarning: Function plot_confusion_matrix is deprecated; Function `plot_confusion_matrix` is deprecated in 1.0 and will be removed in 1.2. Use one of the class methods: ConfusionMatrixDisplay.from_predictions or ConfusionMatrixDisplay.from_estimator.\n",
            "  warnings.warn(msg, category=FutureWarning)\n"
          ]
        },
        {
          "output_type": "display_data",
          "data": {
            "text/plain": [
              "<Figure size 432x288 with 2 Axes>"
            ],
            "image/png": "[encoded data removed]"
          },
          "metadata": {
            "needs_background": "light"
          }
        }
      ],
      "metadata": {
        "execution": {
          "iopub.execute_input": "2021-04-04T18:06:27.046492Z",
          "iopub.status.busy": "2021-04-04T18:06:27.045803Z",
          "iopub.status.idle": "2021-04-04T18:06:27.482928Z",
          "shell.execute_reply": "2021-04-04T18:06:27.481732Z"
        },
        "papermill": {
          "duration": 0.505786,
          "end_time": "2021-04-04T18:06:27.483095",
          "exception": false,
          "start_time": "2021-04-04T18:06:26.977309",
          "status": "completed"
        },
        "tags": [],
        "colab": {
          "base_uri": "https://localhost:8080/",
          "height": 335
        },
        "id": "ukkuKNlmwnlr",
        "outputId": "4381f65f-0fd6-4002-9a16-08d692fd73be"
      }
    },
    {
      "cell_type": "code",
      "execution_count": null,
      "source": [
        "plot_confusion_matrix(NaiveBclassifier, X_test, y_test)  \n",
        "plt.savefig('destination_path.pdf', format='pdf',bbox_inches = 'tight',\n",
        "    pad_inches = 0)\n",
        "plt.show()"
      ],
      "outputs": [
        {
          "output_type": "stream",
          "name": "stderr",
          "text": [
            "/usr/local/lib/python3.7/dist-packages/sklearn/utils/deprecation.py:87: FutureWarning: Function plot_confusion_matrix is deprecated; Function `plot_confusion_matrix` is deprecated in 1.0 and will be removed in 1.2. Use one of the class methods: ConfusionMatrixDisplay.from_predictions or ConfusionMatrixDisplay.from_estimator.\n",
            "  warnings.warn(msg, category=FutureWarning)\n"
          ]
        },
        {
          "output_type": "display_data",
          "data": {
            "text/plain": [
              "<Figure size 432x288 with 2 Axes>"
            ],
            "image/png": "[encoded data removed]"
          },
          "metadata": {
            "needs_background": "light"
          }
        }
      ],
      "metadata": {
        "execution": {
          "iopub.execute_input": "2021-04-04T18:06:27.621792Z",
          "iopub.status.busy": "2021-04-04T18:06:27.620549Z",
          "iopub.status.idle": "2021-04-04T18:06:28.032531Z",
          "shell.execute_reply": "2021-04-04T18:06:28.031864Z"
        },
        "papermill": {
          "duration": 0.484476,
          "end_time": "2021-04-04T18:06:28.032678",
          "exception": false,
          "start_time": "2021-04-04T18:06:27.548202",
          "status": "completed"
        },
        "tags": [],
        "colab": {
          "base_uri": "https://localhost:8080/",
          "height": 335
        },
        "id": "1FSsd4rkwnlr",
        "outputId": "31a2a72c-dbbf-4476-d910-322f1553b54b"
      }
    },
    {
      "cell_type": "markdown",
      "source": [
        "## Recall, Precision and F1 score for NaiveB"
      ],
      "metadata": {
        "papermill": {
          "duration": 0.065136,
          "end_time": "2021-04-04T18:06:28.163393",
          "exception": false,
          "start_time": "2021-04-04T18:06:28.098257",
          "status": "completed"
        },
        "tags": [],
        "id": "-8qzOOXlwnls"
      }
    },
    {
      "cell_type": "code",
      "execution_count": null,
      "source": [
        "f1_score(y_test, y_pred_test, average='weighted')"
      ],
      "outputs": [
        {
          "output_type": "execute_result",
          "data": {
            "text/plain": [
              "0.9055859529120872"
            ]
          },
          "metadata": {},
          "execution_count": 50
        }
      ],
      "metadata": {
        "execution": {
          "iopub.execute_input": "2021-04-04T18:06:28.300705Z",
          "iopub.status.busy": "2021-04-04T18:06:28.299681Z",
          "iopub.status.idle": "2021-04-04T18:06:28.306712Z",
          "shell.execute_reply": "2021-04-04T18:06:28.307195Z"
        },
        "papermill": {
          "duration": 0.078582,
          "end_time": "2021-04-04T18:06:28.307384",
          "exception": false,
          "start_time": "2021-04-04T18:06:28.228802",
          "status": "completed"
        },
        "tags": [],
        "colab": {
          "base_uri": "https://localhost:8080/"
        },
        "id": "TLnxxyWwwnls",
        "outputId": "f2dde92f-2873-4790-c1f4-22d235d1ea11"
      }
    },
    {
      "cell_type": "code",
      "execution_count": null,
      "source": [
        "precision_score(y_test, y_pred_test, average='weighted')"
      ],
      "outputs": [
        {
          "output_type": "execute_result",
          "data": {
            "text/plain": [
              "0.9067099761123854"
            ]
          },
          "metadata": {},
          "execution_count": 51
        }
      ],
      "metadata": {
        "execution": {
          "iopub.execute_input": "2021-04-04T18:06:28.443442Z",
          "iopub.status.busy": "2021-04-04T18:06:28.442466Z",
          "iopub.status.idle": "2021-04-04T18:06:28.450055Z",
          "shell.execute_reply": "2021-04-04T18:06:28.450507Z"
        },
        "papermill": {
          "duration": 0.07771,
          "end_time": "2021-04-04T18:06:28.450691",
          "exception": false,
          "start_time": "2021-04-04T18:06:28.372981",
          "status": "completed"
        },
        "tags": [],
        "colab": {
          "base_uri": "https://localhost:8080/"
        },
        "id": "CQbnvGIrwnls",
        "outputId": "ab6bd965-fafd-4d70-f4f7-485e46f909c3"
      }
    },
    {
      "cell_type": "code",
      "execution_count": null,
      "source": [
        "recall_score(y_test, y_pred_test, average='weighted')"
      ],
      "outputs": [
        {
          "output_type": "execute_result",
          "data": {
            "text/plain": [
              "0.9047206582936336"
            ]
          },
          "metadata": {},
          "execution_count": 52
        }
      ],
      "metadata": {
        "execution": {
          "iopub.execute_input": "2021-04-04T18:06:28.592558Z",
          "iopub.status.busy": "2021-04-04T18:06:28.590276Z",
          "iopub.status.idle": "2021-04-04T18:06:28.599558Z",
          "shell.execute_reply": "2021-04-04T18:06:28.599999Z"
        },
        "papermill": {
          "duration": 0.081414,
          "end_time": "2021-04-04T18:06:28.600254",
          "exception": false,
          "start_time": "2021-04-04T18:06:28.518840",
          "status": "completed"
        },
        "tags": [],
        "colab": {
          "base_uri": "https://localhost:8080/"
        },
        "id": "lQl-DeHGwnls",
        "outputId": "68df00f7-8c0a-4a56-bdb1-a1301ad50941"
      }
    },
    {
      "cell_type": "code",
      "execution_count": null,
      "source": [
        "from sklearn.metrics import classification_report\n",
        "from sklearn.svm import SVC #classification "
      ],
      "outputs": [],
      "metadata": {
        "execution": {
          "iopub.execute_input": "2021-04-04T18:06:28.739956Z",
          "iopub.status.busy": "2021-04-04T18:06:28.739116Z",
          "iopub.status.idle": "2021-04-04T18:06:28.741974Z",
          "shell.execute_reply": "2021-04-04T18:06:28.741493Z"
        },
        "papermill": {
          "duration": 0.075041,
          "end_time": "2021-04-04T18:06:28.742125",
          "exception": false,
          "start_time": "2021-04-04T18:06:28.667084",
          "status": "completed"
        },
        "tags": [],
        "id": "b-_RI9NEwnls"
      }
    },
    {
      "cell_type": "code",
      "execution_count": null,
      "source": [
        "\n",
        "svmmodel = SVC()\n",
        "svmmodel.fit(X_train, y_train)"
      ],
      "outputs": [
        {
          "output_type": "execute_result",
          "data": {
            "text/plain": [
              "SVC()"
            ]
          },
          "metadata": {},
          "execution_count": 54
        }
      ],
      "metadata": {
        "execution": {
          "iopub.execute_input": "2021-04-04T18:06:28.882759Z",
          "iopub.status.busy": "2021-04-04T18:06:28.881928Z",
          "iopub.status.idle": "2021-04-04T18:08:32.048793Z",
          "shell.execute_reply": "2021-04-04T18:08:32.049472Z"
        },
        "papermill": {
          "duration": 123.239244,
          "end_time": "2021-04-04T18:08:32.049728",
          "exception": false,
          "start_time": "2021-04-04T18:06:28.810484",
          "status": "completed"
        },
        "tags": [],
        "colab": {
          "base_uri": "https://localhost:8080/"
        },
        "id": "XzOowhwEwnls",
        "outputId": "06b0ac17-8ef8-44b8-e5a8-51bd711ba539"
      }
    },
    {
      "cell_type": "code",
      "execution_count": null,
      "source": [
        "# print prediction results\n",
        "svm_predictions = svmmodel.predict(X_test)\n",
        "print(classification_report(y_test, svm_predictions))"
      ],
      "outputs": [
        {
          "output_type": "stream",
          "name": "stdout",
          "text": [
            "              precision    recall  f1-score   support\n",
            "\n",
            "           0       0.91      0.98      0.94      1836\n",
            "           1       0.87      0.60      0.71       473\n",
            "\n",
            "    accuracy                           0.90      2309\n",
            "   macro avg       0.89      0.79      0.83      2309\n",
            "weighted avg       0.90      0.90      0.89      2309\n",
            "\n"
          ]
        }
      ],
      "metadata": {
        "execution": {
          "iopub.execute_input": "2021-04-04T18:08:32.189009Z",
          "iopub.status.busy": "2021-04-04T18:08:32.188027Z",
          "iopub.status.idle": "2021-04-04T18:09:03.030715Z",
          "shell.execute_reply": "2021-04-04T18:09:03.031507Z"
        },
        "papermill": {
          "duration": 30.914639,
          "end_time": "2021-04-04T18:09:03.031752",
          "exception": false,
          "start_time": "2021-04-04T18:08:32.117113",
          "status": "completed"
        },
        "tags": [],
        "colab": {
          "base_uri": "https://localhost:8080/"
        },
        "id": "PXz5AyRBwnls",
        "outputId": "3359a65c-1393-46fd-b039-72b056759b68"
      }
    },
    {
      "cell_type": "markdown",
      "source": [
        "## Recall, Precision and F1 score for SVM"
      ],
      "metadata": {
        "papermill": {
          "duration": 0.069327,
          "end_time": "2021-04-04T18:09:03.172023",
          "exception": false,
          "start_time": "2021-04-04T18:09:03.102696",
          "status": "completed"
        },
        "tags": [],
        "id": "eHrYVvuewnls"
      }
    },
    {
      "cell_type": "code",
      "execution_count": null,
      "source": [
        "metrics.accuracy_score(y_test, svm_predictions)"
      ],
      "outputs": [
        {
          "output_type": "execute_result",
          "data": {
            "text/plain": [
              "0.9012559549588567"
            ]
          },
          "metadata": {},
          "execution_count": 56
        }
      ],
      "metadata": {
        "execution": {
          "iopub.execute_input": "2021-04-04T18:09:03.314460Z",
          "iopub.status.busy": "2021-04-04T18:09:03.313780Z",
          "iopub.status.idle": "2021-04-04T18:09:03.319514Z",
          "shell.execute_reply": "2021-04-04T18:09:03.318877Z"
        },
        "papermill": {
          "duration": 0.078924,
          "end_time": "2021-04-04T18:09:03.319659",
          "exception": false,
          "start_time": "2021-04-04T18:09:03.240735",
          "status": "completed"
        },
        "tags": [],
        "colab": {
          "base_uri": "https://localhost:8080/"
        },
        "id": "V2J8DkYownls",
        "outputId": "a06ac273-2213-420e-ef71-c6472c9aee7e"
      }
    },
    {
      "cell_type": "code",
      "execution_count": null,
      "source": [
        "f1_score(y_test, svm_predictions, average='weighted')"
      ],
      "outputs": [
        {
          "output_type": "execute_result",
          "data": {
            "text/plain": [
              "0.8941335428519963"
            ]
          },
          "metadata": {},
          "execution_count": 57
        }
      ],
      "metadata": {
        "execution": {
          "iopub.execute_input": "2021-04-04T18:09:03.460230Z",
          "iopub.status.busy": "2021-04-04T18:09:03.459594Z",
          "iopub.status.idle": "2021-04-04T18:09:03.467660Z",
          "shell.execute_reply": "2021-04-04T18:09:03.467051Z"
        },
        "papermill": {
          "duration": 0.07968,
          "end_time": "2021-04-04T18:09:03.467805",
          "exception": false,
          "start_time": "2021-04-04T18:09:03.388125",
          "status": "completed"
        },
        "tags": [],
        "colab": {
          "base_uri": "https://localhost:8080/"
        },
        "id": "gaBy6IWTwnls",
        "outputId": "7b7ca429-7e26-4a61-fdee-5d36abb0435f"
      }
    },
    {
      "cell_type": "code",
      "execution_count": null,
      "source": [
        "precision_score(y_test, svm_predictions, average='weighted')"
      ],
      "outputs": [
        {
          "output_type": "execute_result",
          "data": {
            "text/plain": [
              "0.8992937047966233"
            ]
          },
          "metadata": {},
          "execution_count": 58
        }
      ],
      "metadata": {
        "execution": {
          "iopub.execute_input": "2021-04-04T18:09:03.612837Z",
          "iopub.status.busy": "2021-04-04T18:09:03.612155Z",
          "iopub.status.idle": "2021-04-04T18:09:03.619547Z",
          "shell.execute_reply": "2021-04-04T18:09:03.618988Z"
        },
        "papermill": {
          "duration": 0.082984,
          "end_time": "2021-04-04T18:09:03.619700",
          "exception": false,
          "start_time": "2021-04-04T18:09:03.536716",
          "status": "completed"
        },
        "tags": [],
        "colab": {
          "base_uri": "https://localhost:8080/"
        },
        "id": "4ECDYvFEwnls",
        "outputId": "225900c4-d9ab-4b00-e7bc-3f53570c2d47"
      }
    },
    {
      "cell_type": "code",
      "execution_count": null,
      "source": [
        "recall_score(y_test, svm_predictions, average='weighted')"
      ],
      "outputs": [
        {
          "output_type": "execute_result",
          "data": {
            "text/plain": [
              "0.9012559549588567"
            ]
          },
          "metadata": {},
          "execution_count": 59
        }
      ],
      "metadata": {
        "execution": {
          "iopub.execute_input": "2021-04-04T18:09:03.763599Z",
          "iopub.status.busy": "2021-04-04T18:09:03.762915Z",
          "iopub.status.idle": "2021-04-04T18:09:03.769807Z",
          "shell.execute_reply": "2021-04-04T18:09:03.769255Z"
        },
        "papermill": {
          "duration": 0.081117,
          "end_time": "2021-04-04T18:09:03.769962",
          "exception": false,
          "start_time": "2021-04-04T18:09:03.688845",
          "status": "completed"
        },
        "tags": [],
        "colab": {
          "base_uri": "https://localhost:8080/"
        },
        "id": "lRkuY4e4wnls",
        "outputId": "beb05c64-e7da-44de-b75e-1cc737657cf8"
      }
    },
    {
      "cell_type": "code",
      "execution_count": null,
      "source": [
        "plot_confusion_matrix(svmmodel, X_test, y_test)  \n",
        "plt.savefig('destination_path.pdf', format='pdf',bbox_inches = 'tight',\n",
        "    pad_inches = 0)\n",
        "plt.show()"
      ],
      "outputs": [
        {
          "output_type": "stream",
          "name": "stderr",
          "text": [
            "/usr/local/lib/python3.7/dist-packages/sklearn/utils/deprecation.py:87: FutureWarning: Function plot_confusion_matrix is deprecated; Function `plot_confusion_matrix` is deprecated in 1.0 and will be removed in 1.2. Use one of the class methods: ConfusionMatrixDisplay.from_predictions or ConfusionMatrixDisplay.from_estimator.\n",
            "  warnings.warn(msg, category=FutureWarning)\n"
          ]
        },
        {
          "output_type": "display_data",
          "data": {
            "text/plain": [
              "<Figure size 432x288 with 2 Axes>"
            ],
            "image/png": "[encoded data removed]"
          },
          "metadata": {
            "needs_background": "light"
          }
        }
      ],
      "metadata": {
        "execution": {
          "iopub.execute_input": "2021-04-04T18:09:03.915831Z",
          "iopub.status.busy": "2021-04-04T18:09:03.915148Z",
          "iopub.status.idle": "2021-04-04T18:09:33.858610Z",
          "shell.execute_reply": "2021-04-04T18:09:33.857990Z"
        },
        "papermill": {
          "duration": 30.018442,
          "end_time": "2021-04-04T18:09:33.858771",
          "exception": false,
          "start_time": "2021-04-04T18:09:03.840329",
          "status": "completed"
        },
        "tags": [],
        "colab": {
          "base_uri": "https://localhost:8080/",
          "height": 335
        },
        "id": "wxl7KKd_wnls",
        "outputId": "a3a037eb-12fb-4f9f-c295-8c1d749e5ea3"
      }
    },
    {
      "cell_type": "markdown",
      "source": [
        "# To run this, change to cell code\n",
        "from sklearn.model_selection import GridSearchCV\n",
        "  \n",
        "# defining parameter range\n",
        "param_grid = {'C': [0.1, 1, 10, 100, 1000], \n",
        "              'gamma': [1, 0.1, 0.01, 0.001, 0.0001],\n",
        "              'kernel': ['rbf']} \n",
        "  \n",
        "grid = GridSearchCV(SVC(), param_grid, refit = True, verbose = 3)\n",
        "  \n",
        "# fitting the model for grid search\n",
        "grid.fit(X_train, y_train)"
      ],
      "metadata": {
        "papermill": {
          "duration": 0.070191,
          "end_time": "2021-04-04T18:09:33.999397",
          "exception": false,
          "start_time": "2021-04-04T18:09:33.929206",
          "status": "completed"
        },
        "tags": [],
        "id": "XrPV5Jrgwnls"
      }
    },
    {
      "cell_type": "code",
      "execution_count": null,
      "source": [
        "# print best parameter after tuning\n",
        "#print(grid.best_params_) #10, 0.01"
      ],
      "outputs": [],
      "metadata": {
        "execution": {
          "iopub.execute_input": "2021-04-04T18:09:34.144553Z",
          "iopub.status.busy": "2021-04-04T18:09:34.143889Z",
          "iopub.status.idle": "2021-04-04T18:09:34.147124Z",
          "shell.execute_reply": "2021-04-04T18:09:34.146582Z"
        },
        "papermill": {
          "duration": 0.077754,
          "end_time": "2021-04-04T18:09:34.147281",
          "exception": false,
          "start_time": "2021-04-04T18:09:34.069527",
          "status": "completed"
        },
        "tags": [],
        "id": "RADJ5Lu1wnlt"
      }
    },
    {
      "cell_type": "code",
      "execution_count": null,
      "source": [
        "# print how our model looks after hyper-parameter tuning\n",
        "#print(grid.best_estimator_)"
      ],
      "outputs": [],
      "metadata": {
        "execution": {
          "iopub.execute_input": "2021-04-04T18:09:34.293710Z",
          "iopub.status.busy": "2021-04-04T18:09:34.292798Z",
          "iopub.status.idle": "2021-04-04T18:09:34.296158Z",
          "shell.execute_reply": "2021-04-04T18:09:34.295527Z"
        },
        "papermill": {
          "duration": 0.078288,
          "end_time": "2021-04-04T18:09:34.296326",
          "exception": false,
          "start_time": "2021-04-04T18:09:34.218038",
          "status": "completed"
        },
        "tags": [],
        "id": "yjiUu8sjwnlt"
      }
    },
    {
      "cell_type": "code",
      "execution_count": null,
      "source": [
        "optmodel = SVC(C=10, gamma=0.01) #as GRIDsearchCV consumes time, so we comment it. (10, 0.01) are best values."
      ],
      "outputs": [],
      "metadata": {
        "execution": {
          "iopub.execute_input": "2021-04-04T18:09:34.446831Z",
          "iopub.status.busy": "2021-04-04T18:09:34.445840Z",
          "iopub.status.idle": "2021-04-04T18:09:34.449178Z",
          "shell.execute_reply": "2021-04-04T18:09:34.448479Z"
        },
        "papermill": {
          "duration": 0.080479,
          "end_time": "2021-04-04T18:09:34.449323",
          "exception": false,
          "start_time": "2021-04-04T18:09:34.368844",
          "status": "completed"
        },
        "tags": [],
        "id": "4wPyav-Bwnlt"
      }
    },
    {
      "cell_type": "code",
      "execution_count": null,
      "source": [
        "optmodel.fit(X_train, y_train)"
      ],
      "outputs": [
        {
          "output_type": "execute_result",
          "data": {
            "text/plain": [
              "SVC(C=10, gamma=0.01)"
            ]
          },
          "metadata": {},
          "execution_count": 64
        }
      ],
      "metadata": {
        "execution": {
          "iopub.execute_input": "2021-04-04T18:09:34.597676Z",
          "iopub.status.busy": "2021-04-04T18:09:34.596974Z",
          "iopub.status.idle": "2021-04-04T18:11:01.335872Z",
          "shell.execute_reply": "2021-04-04T18:11:01.336453Z"
        },
        "papermill": {
          "duration": 86.816209,
          "end_time": "2021-04-04T18:11:01.336665",
          "exception": false,
          "start_time": "2021-04-04T18:09:34.520456",
          "status": "completed"
        },
        "tags": [],
        "colab": {
          "base_uri": "https://localhost:8080/"
        },
        "id": "-KBQbRAjwnlt",
        "outputId": "d4ab3d93-129e-417b-e911-55d39210bf19"
      }
    },
    {
      "cell_type": "code",
      "execution_count": null,
      "source": [
        "# print prediction results\n",
        "svm_predictions = optmodel.predict(X_test)\n",
        "print(classification_report(y_test, svm_predictions))"
      ],
      "outputs": [
        {
          "output_type": "stream",
          "name": "stdout",
          "text": [
            "              precision    recall  f1-score   support\n",
            "\n",
            "           0       0.93      0.96      0.94      1836\n",
            "           1       0.83      0.71      0.76       473\n",
            "\n",
            "    accuracy                           0.91      2309\n",
            "   macro avg       0.88      0.84      0.85      2309\n",
            "weighted avg       0.91      0.91      0.91      2309\n",
            "\n"
          ]
        }
      ],
      "metadata": {
        "execution": {
          "iopub.execute_input": "2021-04-04T18:11:01.485262Z",
          "iopub.status.busy": "2021-04-04T18:11:01.484570Z",
          "iopub.status.idle": "2021-04-04T18:11:21.316886Z",
          "shell.execute_reply": "2021-04-04T18:11:21.316302Z"
        },
        "papermill": {
          "duration": 19.908909,
          "end_time": "2021-04-04T18:11:21.317042",
          "exception": false,
          "start_time": "2021-04-04T18:11:01.408133",
          "status": "completed"
        },
        "tags": [],
        "colab": {
          "base_uri": "https://localhost:8080/"
        },
        "id": "r721Fzlmwnlt",
        "outputId": "38ca73c5-08a2-4249-d0b1-7d1e0e6c7e6d"
      }
    },
    {
      "cell_type": "code",
      "execution_count": null,
      "source": [
        "metrics.accuracy_score(y_test, svm_predictions)"
      ],
      "outputs": [
        {
          "output_type": "execute_result",
          "data": {
            "text/plain": [
              "0.9103508012126462"
            ]
          },
          "metadata": {},
          "execution_count": 66
        }
      ],
      "metadata": {
        "execution": {
          "iopub.execute_input": "2021-04-04T18:11:21.468876Z",
          "iopub.status.busy": "2021-04-04T18:11:21.467893Z",
          "iopub.status.idle": "2021-04-04T18:11:21.475002Z",
          "shell.execute_reply": "2021-04-04T18:11:21.474280Z"
        },
        "papermill": {
          "duration": 0.085643,
          "end_time": "2021-04-04T18:11:21.475163",
          "exception": false,
          "start_time": "2021-04-04T18:11:21.389520",
          "status": "completed"
        },
        "tags": [],
        "colab": {
          "base_uri": "https://localhost:8080/"
        },
        "id": "URP9l5Afwnlt",
        "outputId": "a75bf537-75f3-4db2-d427-eb89d041bd03"
      }
    },
    {
      "cell_type": "code",
      "execution_count": null,
      "source": [
        "f1_score(y_test, svm_predictions, average='weighted')"
      ],
      "outputs": [
        {
          "output_type": "execute_result",
          "data": {
            "text/plain": [
              "0.9077373589345412"
            ]
          },
          "metadata": {},
          "execution_count": 67
        }
      ],
      "metadata": {
        "execution": {
          "iopub.execute_input": "2021-04-04T18:11:21.629062Z",
          "iopub.status.busy": "2021-04-04T18:11:21.627931Z",
          "iopub.status.idle": "2021-04-04T18:11:21.635554Z",
          "shell.execute_reply": "2021-04-04T18:11:21.634948Z"
        },
        "papermill": {
          "duration": 0.087172,
          "end_time": "2021-04-04T18:11:21.635709",
          "exception": false,
          "start_time": "2021-04-04T18:11:21.548537",
          "status": "completed"
        },
        "tags": [],
        "colab": {
          "base_uri": "https://localhost:8080/"
        },
        "id": "hIu2IHQzwnlt",
        "outputId": "f02835ed-8d25-414c-defc-2e0636b066d2"
      }
    },
    {
      "cell_type": "code",
      "execution_count": null,
      "source": [
        "recall_score(y_test, svm_predictions, average='weighted')"
      ],
      "outputs": [
        {
          "output_type": "execute_result",
          "data": {
            "text/plain": [
              "0.9103508012126462"
            ]
          },
          "metadata": {},
          "execution_count": 68
        }
      ],
      "metadata": {
        "execution": {
          "iopub.execute_input": "2021-04-04T18:11:21.788631Z",
          "iopub.status.busy": "2021-04-04T18:11:21.787950Z",
          "iopub.status.idle": "2021-04-04T18:11:21.794525Z",
          "shell.execute_reply": "2021-04-04T18:11:21.795070Z"
        },
        "papermill": {
          "duration": 0.086746,
          "end_time": "2021-04-04T18:11:21.795256",
          "exception": false,
          "start_time": "2021-04-04T18:11:21.708510",
          "status": "completed"
        },
        "tags": [],
        "colab": {
          "base_uri": "https://localhost:8080/"
        },
        "id": "O6hXub9swnlt",
        "outputId": "9d0bc671-05a7-4e9f-8944-341b2316ad72"
      }
    },
    {
      "cell_type": "code",
      "execution_count": null,
      "source": [
        "precision_score(y_test, svm_predictions, average='weighted')"
      ],
      "outputs": [
        {
          "output_type": "execute_result",
          "data": {
            "text/plain": [
              "0.9074368612130781"
            ]
          },
          "metadata": {},
          "execution_count": 69
        }
      ],
      "metadata": {
        "execution": {
          "iopub.execute_input": "2021-04-04T18:11:21.948375Z",
          "iopub.status.busy": "2021-04-04T18:11:21.947678Z",
          "iopub.status.idle": "2021-04-04T18:11:21.955057Z",
          "shell.execute_reply": "2021-04-04T18:11:21.955569Z"
        },
        "papermill": {
          "duration": 0.086743,
          "end_time": "2021-04-04T18:11:21.955836",
          "exception": false,
          "start_time": "2021-04-04T18:11:21.869093",
          "status": "completed"
        },
        "tags": [],
        "colab": {
          "base_uri": "https://localhost:8080/"
        },
        "id": "yFip1Kjownlt",
        "outputId": "c14f2337-9b7f-4d56-9a94-f159948eddc1"
      }
    },
    {
      "cell_type": "code",
      "execution_count": null,
      "source": [
        "plot_confusion_matrix(optmodel, X_test, y_test)  \n",
        "plt.savefig('destination_path.pdf', format='pdf',bbox_inches = 'tight',\n",
        "    pad_inches = 0)\n",
        "plt.show()"
      ],
      "outputs": [
        {
          "output_type": "stream",
          "name": "stderr",
          "text": [
            "/usr/local/lib/python3.7/dist-packages/sklearn/utils/deprecation.py:87: FutureWarning: Function plot_confusion_matrix is deprecated; Function `plot_confusion_matrix` is deprecated in 1.0 and will be removed in 1.2. Use one of the class methods: ConfusionMatrixDisplay.from_predictions or ConfusionMatrixDisplay.from_estimator.\n",
            "  warnings.warn(msg, category=FutureWarning)\n"
          ]
        },
        {
          "output_type": "display_data",
          "data": {
            "text/plain": [
              "<Figure size 432x288 with 2 Axes>"
            ],
            "image/png": "[encoded data removed]"
          },
          "metadata": {
            "needs_background": "light"
          }
        }
      ],
      "metadata": {
        "execution": {
          "iopub.execute_input": "2021-04-04T18:11:22.111186Z",
          "iopub.status.busy": "2021-04-04T18:11:22.110228Z",
          "iopub.status.idle": "2021-04-04T18:11:42.213502Z",
          "shell.execute_reply": "2021-04-04T18:11:42.214028Z"
        },
        "papermill": {
          "duration": 20.184668,
          "end_time": "2021-04-04T18:11:42.214235",
          "exception": false,
          "start_time": "2021-04-04T18:11:22.029567",
          "status": "completed"
        },
        "tags": [],
        "colab": {
          "base_uri": "https://localhost:8080/",
          "height": 335
        },
        "id": "7VrB6T_6wnlt",
        "outputId": "539e3cc3-3a60-4fec-aa9b-fa2469d0e5eb"
      }
    },
    {
      "cell_type": "markdown",
      "source": [
        "## TF-IDF"
      ],
      "metadata": {
        "papermill": {
          "duration": 0.075008,
          "end_time": "2021-04-04T18:11:42.364065",
          "exception": false,
          "start_time": "2021-04-04T18:11:42.289057",
          "status": "completed"
        },
        "tags": [],
        "id": "a5988967wnlt"
      }
    },
    {
      "cell_type": "code",
      "execution_count": null,
      "source": [
        "from sklearn.feature_extraction.text import TfidfVectorizer\n",
        "vectorizer = TfidfVectorizer(ngram_range=(1,1), use_idf = True, max_features = 2000)\n",
        "X = vectorizer.fit_transform(tweet['text']).toarray()"
      ],
      "outputs": [],
      "metadata": {
        "execution": {
          "iopub.execute_input": "2021-04-04T18:11:42.534107Z",
          "iopub.status.busy": "2021-04-04T18:11:42.528892Z",
          "iopub.status.idle": "2021-04-04T18:11:43.079364Z",
          "shell.execute_reply": "2021-04-04T18:11:43.078618Z"
        },
        "papermill": {
          "duration": 0.64057,
          "end_time": "2021-04-04T18:11:43.079532",
          "exception": false,
          "start_time": "2021-04-04T18:11:42.438962",
          "status": "completed"
        },
        "tags": [],
        "id": "rWToy8Odwnlt"
      }
    },
    {
      "cell_type": "code",
      "execution_count": null,
      "source": [
        "X.shape"
      ],
      "outputs": [
        {
          "output_type": "execute_result",
          "data": {
            "text/plain": [
              "(11541, 2000)"
            ]
          },
          "metadata": {},
          "execution_count": 72
        }
      ],
      "metadata": {
        "execution": {
          "iopub.execute_input": "2021-04-04T18:11:43.241811Z",
          "iopub.status.busy": "2021-04-04T18:11:43.240829Z",
          "iopub.status.idle": "2021-04-04T18:11:43.245556Z",
          "shell.execute_reply": "2021-04-04T18:11:43.245038Z"
        },
        "papermill": {
          "duration": 0.08754,
          "end_time": "2021-04-04T18:11:43.245727",
          "exception": false,
          "start_time": "2021-04-04T18:11:43.158187",
          "status": "completed"
        },
        "tags": [],
        "colab": {
          "base_uri": "https://localhost:8080/"
        },
        "id": "nydCdZrVwnlt",
        "outputId": "f7bc09c9-0bb4-40a9-b7c5-17232d263a0c"
      }
    },
    {
      "cell_type": "code",
      "execution_count": null,
      "source": [
        "X_train, X_test, y_train, y_test = train_test_split(X, final_labels, test_size = 0.2, random_state = 1, stratify =final_labels)"
      ],
      "outputs": [],
      "metadata": {
        "execution": {
          "iopub.execute_input": "2021-04-04T18:11:43.409371Z",
          "iopub.status.busy": "2021-04-04T18:11:43.408692Z",
          "iopub.status.idle": "2021-04-04T18:11:43.491335Z",
          "shell.execute_reply": "2021-04-04T18:11:43.490706Z"
        },
        "papermill": {
          "duration": 0.167095,
          "end_time": "2021-04-04T18:11:43.491525",
          "exception": false,
          "start_time": "2021-04-04T18:11:43.324430",
          "status": "completed"
        },
        "tags": [],
        "id": "yrrht1srwnlt"
      }
    },
    {
      "cell_type": "markdown",
      "source": [
        "## Accuracy, Recall, Precision, F1-score for TF-IDF-NB"
      ],
      "metadata": {
        "papermill": {
          "duration": 0.077742,
          "end_time": "2021-04-04T18:11:43.646468",
          "exception": false,
          "start_time": "2021-04-04T18:11:43.568726",
          "status": "completed"
        },
        "tags": [],
        "id": "Kk7NNpr6wnlt"
      }
    },
    {
      "cell_type": "code",
      "execution_count": null,
      "source": [
        "NaiveBclassifier = MultinomialNB()\n",
        "NaiveBclassifier.fit(X_train,y_train)\n",
        "\n",
        "# Predicting test cases\n",
        "y_pred_test = NaiveBclassifier.predict(X_test)\n",
        "\n",
        "\n",
        "accuracyNaaive = accuracy_score(list(y_pred_test), y_test)\n",
        "\n",
        "print (\"The model accuracy is :\", accuracyNaaive)"
      ],
      "outputs": [
        {
          "output_type": "stream",
          "name": "stdout",
          "text": [
            "The model accuracy is : 0.89172802078822\n"
          ]
        }
      ],
      "metadata": {
        "execution": {
          "iopub.execute_input": "2021-04-04T18:11:43.806319Z",
          "iopub.status.busy": "2021-04-04T18:11:43.804737Z",
          "iopub.status.idle": "2021-04-04T18:11:43.884506Z",
          "shell.execute_reply": "2021-04-04T18:11:43.886149Z"
        },
        "papermill": {
          "duration": 0.164442,
          "end_time": "2021-04-04T18:11:43.886605",
          "exception": false,
          "start_time": "2021-04-04T18:11:43.722163",
          "status": "completed"
        },
        "tags": [],
        "colab": {
          "base_uri": "https://localhost:8080/"
        },
        "id": "ZoPdnLtmwnlt",
        "outputId": "e257a1f3-393a-45eb-bb42-c42ae358417e"
      }
    },
    {
      "cell_type": "code",
      "execution_count": null,
      "source": [
        "f1_score(y_test, y_pred_test, average='weighted')"
      ],
      "outputs": [
        {
          "output_type": "execute_result",
          "data": {
            "text/plain": [
              "0.8770027381742703"
            ]
          },
          "metadata": {},
          "execution_count": 75
        }
      ],
      "metadata": {
        "execution": {
          "iopub.execute_input": "2021-04-04T18:11:44.110793Z",
          "iopub.status.busy": "2021-04-04T18:11:44.110051Z",
          "iopub.status.idle": "2021-04-04T18:11:44.119105Z",
          "shell.execute_reply": "2021-04-04T18:11:44.118407Z"
        },
        "papermill": {
          "duration": 0.100601,
          "end_time": "2021-04-04T18:11:44.119261",
          "exception": false,
          "start_time": "2021-04-04T18:11:44.018660",
          "status": "completed"
        },
        "tags": [],
        "colab": {
          "base_uri": "https://localhost:8080/"
        },
        "id": "SZ_v73m3wnlt",
        "outputId": "7b95c5d3-4df6-4ea0-f81e-8f7c5838e6c3"
      }
    },
    {
      "cell_type": "code",
      "execution_count": null,
      "source": [
        "precision_score(y_test, y_pred_test, average='weighted')"
      ],
      "outputs": [
        {
          "output_type": "execute_result",
          "data": {
            "text/plain": [
              "0.9006960337993005"
            ]
          },
          "metadata": {},
          "execution_count": 76
        }
      ],
      "metadata": {
        "execution": {
          "iopub.execute_input": "2021-04-04T18:11:44.286907Z",
          "iopub.status.busy": "2021-04-04T18:11:44.286104Z",
          "iopub.status.idle": "2021-04-04T18:11:44.294192Z",
          "shell.execute_reply": "2021-04-04T18:11:44.293371Z"
        },
        "papermill": {
          "duration": 0.094327,
          "end_time": "2021-04-04T18:11:44.294382",
          "exception": false,
          "start_time": "2021-04-04T18:11:44.200055",
          "status": "completed"
        },
        "tags": [],
        "colab": {
          "base_uri": "https://localhost:8080/"
        },
        "id": "v0d6ORl5wnlt",
        "outputId": "01d78e7a-c687-4374-a139-674e2bed5a4e"
      }
    },
    {
      "cell_type": "code",
      "execution_count": null,
      "source": [
        "recall_score(y_test, y_pred_test, average='weighted')"
      ],
      "outputs": [
        {
          "output_type": "execute_result",
          "data": {
            "text/plain": [
              "0.89172802078822"
            ]
          },
          "metadata": {},
          "execution_count": 77
        }
      ],
      "metadata": {
        "execution": {
          "iopub.execute_input": "2021-04-04T18:11:44.455619Z",
          "iopub.status.busy": "2021-04-04T18:11:44.454903Z",
          "iopub.status.idle": "2021-04-04T18:11:44.464265Z",
          "shell.execute_reply": "2021-04-04T18:11:44.463641Z"
        },
        "papermill": {
          "duration": 0.090295,
          "end_time": "2021-04-04T18:11:44.464443",
          "exception": false,
          "start_time": "2021-04-04T18:11:44.374148",
          "status": "completed"
        },
        "tags": [],
        "colab": {
          "base_uri": "https://localhost:8080/"
        },
        "id": "Urbe2emRwnlu",
        "outputId": "10a50c74-010d-4071-cc3f-87e583f8df9c"
      }
    },
    {
      "cell_type": "code",
      "execution_count": null,
      "source": [
        "plot_confusion_matrix(NaiveBclassifier, X_test, y_test)  \n",
        "plt.savefig('destination_path.pdf', format='pdf',bbox_inches = 'tight',\n",
        "    pad_inches = 0)\n",
        "plt.show()"
      ],
      "outputs": [
        {
          "output_type": "stream",
          "name": "stderr",
          "text": [
            "/usr/local/lib/python3.7/dist-packages/sklearn/utils/deprecation.py:87: FutureWarning: Function plot_confusion_matrix is deprecated; Function `plot_confusion_matrix` is deprecated in 1.0 and will be removed in 1.2. Use one of the class methods: ConfusionMatrixDisplay.from_predictions or ConfusionMatrixDisplay.from_estimator.\n",
            "  warnings.warn(msg, category=FutureWarning)\n"
          ]
        },
        {
          "output_type": "display_data",
          "data": {
            "text/plain": [
              "<Figure size 432x288 with 2 Axes>"
            ],
            "image/png": "[encoded data removed]"
          },
          "metadata": {
            "needs_background": "light"
          }
        }
      ],
      "metadata": {
        "execution": {
          "iopub.execute_input": "2021-04-04T18:11:44.685555Z",
          "iopub.status.busy": "2021-04-04T18:11:44.684516Z",
          "iopub.status.idle": "2021-04-04T18:11:45.094049Z",
          "shell.execute_reply": "2021-04-04T18:11:45.094649Z"
        },
        "papermill": {
          "duration": 0.536232,
          "end_time": "2021-04-04T18:11:45.094840",
          "exception": false,
          "start_time": "2021-04-04T18:11:44.558608",
          "status": "completed"
        },
        "tags": [],
        "colab": {
          "base_uri": "https://localhost:8080/"
        },
        "id": "VteXJ51Ownlu",
        "outputId": "9f9b8c94-ffdb-4bc5-f6f7-9cbbe56f70d2"
      }
    },
    {
      "cell_type": "markdown",
      "source": [
        "## ANN-TF-IDF"
      ],
      "metadata": {
        "papermill": {
          "duration": 0.078169,
          "end_time": "2021-04-04T18:11:45.253770",
          "exception": false,
          "start_time": "2021-04-04T18:11:45.175601",
          "status": "completed"
        },
        "tags": [],
        "id": "hp4mO0Wnwnlu"
      }
    },
    {
      "cell_type": "code",
      "execution_count": null,
      "source": [
        "NNclf = MLPClassifier(solver='lbfgs', alpha=1e-5,\n",
        "                     hidden_layer_sizes=(12, 1), random_state=1)\n",
        "NNclf.fit(X_train, y_train)\n",
        "ypredNN = NNclf.predict(X_test)\n",
        "metrics.accuracy_score(y_test, ypredNN)"
      ],
      "outputs": [
        {
          "output_type": "execute_result",
          "data": {
            "text/plain": [
              "0.7951494153313122"
            ]
          },
          "metadata": {},
          "execution_count": 79
        }
      ],
      "metadata": {
        "execution": {
          "iopub.execute_input": "2021-04-04T18:11:45.417767Z",
          "iopub.status.busy": "2021-04-04T18:11:45.416759Z",
          "iopub.status.idle": "2021-04-04T18:11:46.186126Z",
          "shell.execute_reply": "2021-04-04T18:11:46.187230Z"
        },
        "papermill": {
          "duration": 0.855635,
          "end_time": "2021-04-04T18:11:46.187531",
          "exception": false,
          "start_time": "2021-04-04T18:11:45.331896",
          "status": "completed"
        },
        "tags": [],
        "colab": {
          "base_uri": "https://localhost:8080/"
        },
        "id": "EC2N59Ufwnlu",
        "outputId": "8a8ff51a-45dc-4a90-f627-e4154902c87e"
      }
    },
    {
      "cell_type": "code",
      "execution_count": null,
      "source": [
        "recall_score(y_test, ypredNN, average='weighted')"
      ],
      "outputs": [
        {
          "output_type": "execute_result",
          "data": {
            "text/plain": [
              "0.7951494153313122"
            ]
          },
          "metadata": {},
          "execution_count": 80
        }
      ],
      "metadata": {
        "execution": {
          "iopub.execute_input": "2021-04-04T18:11:46.418297Z",
          "iopub.status.busy": "2021-04-04T18:11:46.417283Z",
          "iopub.status.idle": "2021-04-04T18:11:46.423447Z",
          "shell.execute_reply": "2021-04-04T18:11:46.423910Z"
        },
        "papermill": {
          "duration": 0.091303,
          "end_time": "2021-04-04T18:11:46.424095",
          "exception": false,
          "start_time": "2021-04-04T18:11:46.332792",
          "status": "completed"
        },
        "tags": [],
        "colab": {
          "base_uri": "https://localhost:8080/"
        },
        "id": "zGQZdj-_wnlu",
        "outputId": "45d0d8f6-3a5e-4421-ec2e-48cc5e4b1da0"
      }
    },
    {
      "cell_type": "code",
      "execution_count": null,
      "source": [
        "precision_score(y_test, ypredNN, average='weighted')"
      ],
      "outputs": [
        {
          "output_type": "stream",
          "name": "stderr",
          "text": [
            "/usr/local/lib/python3.7/dist-packages/sklearn/metrics/_classification.py:1318: UndefinedMetricWarning: Precision is ill-defined and being set to 0.0 in labels with no predicted samples. Use `zero_division` parameter to control this behavior.\n",
            "  _warn_prf(average, modifier, msg_start, len(result))\n"
          ]
        },
        {
          "output_type": "execute_result",
          "data": {
            "text/plain": [
              "0.6322625927017277"
            ]
          },
          "metadata": {},
          "execution_count": 81
        }
      ],
      "metadata": {
        "execution": {
          "iopub.execute_input": "2021-04-04T18:11:46.586844Z",
          "iopub.status.busy": "2021-04-04T18:11:46.585850Z",
          "iopub.status.idle": "2021-04-04T18:11:46.595898Z",
          "shell.execute_reply": "2021-04-04T18:11:46.595242Z"
        },
        "papermill": {
          "duration": 0.092458,
          "end_time": "2021-04-04T18:11:46.596043",
          "exception": false,
          "start_time": "2021-04-04T18:11:46.503585",
          "status": "completed"
        },
        "tags": [],
        "colab": {
          "base_uri": "https://localhost:8080/"
        },
        "id": "jnvNxKN8wnlu",
        "outputId": "be9a7b33-d678-4feb-a972-01ea62889236"
      }
    },
    {
      "cell_type": "code",
      "execution_count": null,
      "source": [
        "f1_score(y_test, ypredNN, average='weighted')"
      ],
      "outputs": [
        {
          "output_type": "execute_result",
          "data": {
            "text/plain": [
              "0.7044122202886799"
            ]
          },
          "metadata": {},
          "execution_count": 82
        }
      ],
      "metadata": {
        "execution": {
          "iopub.execute_input": "2021-04-04T18:11:46.765034Z",
          "iopub.status.busy": "2021-04-04T18:11:46.763978Z",
          "iopub.status.idle": "2021-04-04T18:11:46.772636Z",
          "shell.execute_reply": "2021-04-04T18:11:46.772054Z"
        },
        "papermill": {
          "duration": 0.094993,
          "end_time": "2021-04-04T18:11:46.772799",
          "exception": false,
          "start_time": "2021-04-04T18:11:46.677806",
          "status": "completed"
        },
        "tags": [],
        "colab": {
          "base_uri": "https://localhost:8080/"
        },
        "id": "ouT1sYKWwnlu",
        "outputId": "90983146-b4a4-4abd-b367-0e876b4eba57"
      }
    },
    {
      "cell_type": "code",
      "execution_count": null,
      "source": [
        "plot_confusion_matrix(NNclf, X_test, y_test)  \n",
        "plt.savefig('destination_path.pdf', format='pdf',bbox_inches = 'tight',\n",
        "    pad_inches = 0)\n",
        "plt.show()"
      ],
      "outputs": [
        {
          "output_type": "stream",
          "name": "stderr",
          "text": [
            "/usr/local/lib/python3.7/dist-packages/sklearn/utils/deprecation.py:87: FutureWarning: Function plot_confusion_matrix is deprecated; Function `plot_confusion_matrix` is deprecated in 1.0 and will be removed in 1.2. Use one of the class methods: ConfusionMatrixDisplay.from_predictions or ConfusionMatrixDisplay.from_estimator.\n",
            "  warnings.warn(msg, category=FutureWarning)\n"
          ]
        },
        {
          "output_type": "display_data",
          "data": {
            "text/plain": [
              "<Figure size 432x288 with 2 Axes>"
            ],
            "image/png": "[encoded data removed]"
          },
          "metadata": {
            "needs_background": "light"
          }
        }
      ],
      "metadata": {
        "execution": {
          "iopub.execute_input": "2021-04-04T18:11:46.940997Z",
          "iopub.status.busy": "2021-04-04T18:11:46.940225Z",
          "iopub.status.idle": "2021-04-04T18:11:47.365465Z",
          "shell.execute_reply": "2021-04-04T18:11:47.364779Z"
        },
        "papermill": {
          "duration": 0.509987,
          "end_time": "2021-04-04T18:11:47.365616",
          "exception": false,
          "start_time": "2021-04-04T18:11:46.855629",
          "status": "completed"
        },
        "tags": [],
        "colab": {
          "base_uri": "https://localhost:8080/"
        },
        "id": "DpyL0xfWwnlu",
        "outputId": "7bbd760b-cbf7-46f5-f2e8-cff8646b08ec"
      }
    },
    {
      "cell_type": "markdown",
      "source": [
        "from sklearn.model_selection import GridSearchCV\n",
        "  \n",
        "# defining parameter range\n",
        "param_grid = {'C': [0.1, 1, 10, 100, 1000], \n",
        "              'gamma': [1, 0.1, 0.01, 0.001, 0.0001],\n",
        "              'kernel': ['rbf']} \n",
        "  \n",
        "grid = GridSearchCV(SVC(), param_grid, refit = True, verbose = 3)\n",
        "  \n",
        "# fitting the model for grid search\n",
        "grid.fit(X_train, y_train)"
      ],
      "metadata": {
        "papermill": {
          "duration": 0.081494,
          "end_time": "2021-04-04T18:11:47.529393",
          "exception": false,
          "start_time": "2021-04-04T18:11:47.447899",
          "status": "completed"
        },
        "tags": [],
        "id": "tLSROkhnwnlu"
      }
    },
    {
      "cell_type": "code",
      "execution_count": null,
      "source": [
        "optmodel = SVC(C=10, gamma=1, kernel = 'rbf') #(10,1) are best values obtained from above step. \n",
        "optmodel.fit(X_train, y_train)"
      ],
      "outputs": [
        {
          "output_type": "execute_result",
          "data": {
            "text/plain": [
              "SVC(C=10, gamma=1)"
            ]
          },
          "metadata": {},
          "execution_count": 84
        }
      ],
      "metadata": {
        "execution": {
          "iopub.execute_input": "2021-04-04T18:11:47.700764Z",
          "iopub.status.busy": "2021-04-04T18:11:47.699530Z",
          "iopub.status.idle": "2021-04-04T18:14:12.770847Z",
          "shell.execute_reply": "2021-04-04T18:14:12.771388Z"
        },
        "papermill": {
          "duration": 145.160419,
          "end_time": "2021-04-04T18:14:12.771589",
          "exception": false,
          "start_time": "2021-04-04T18:11:47.611170",
          "status": "completed"
        },
        "tags": [],
        "colab": {
          "base_uri": "https://localhost:8080/"
        },
        "id": "0woeFQy7wnlu",
        "outputId": "a4abaa08-cc11-403b-bec2-8159eb64b05c"
      }
    },
    {
      "cell_type": "code",
      "execution_count": null,
      "source": [
        "# print prediction results\n",
        "svm_predictions = optmodel.predict(X_test)\n",
        "print(classification_report(y_test, svm_predictions))"
      ],
      "outputs": [
        {
          "output_type": "stream",
          "name": "stdout",
          "text": [
            "              precision    recall  f1-score   support\n",
            "\n",
            "           0       0.93      0.98      0.95      1836\n",
            "           1       0.89      0.71      0.79       473\n",
            "\n",
            "    accuracy                           0.92      2309\n",
            "   macro avg       0.91      0.85      0.87      2309\n",
            "weighted avg       0.92      0.92      0.92      2309\n",
            "\n"
          ]
        }
      ],
      "metadata": {
        "execution": {
          "iopub.execute_input": "2021-04-04T18:14:12.948686Z",
          "iopub.status.busy": "2021-04-04T18:14:12.947422Z",
          "iopub.status.idle": "2021-04-04T18:14:48.239303Z",
          "shell.execute_reply": "2021-04-04T18:14:48.240165Z"
        },
        "papermill": {
          "duration": 35.385068,
          "end_time": "2021-04-04T18:14:48.240442",
          "exception": false,
          "start_time": "2021-04-04T18:14:12.855374",
          "status": "completed"
        },
        "tags": [],
        "colab": {
          "base_uri": "https://localhost:8080/"
        },
        "id": "FJ94R5Klwnlu",
        "outputId": "9740f28a-f30e-4b4a-81a2-fa890452482e"
      }
    },
    {
      "cell_type": "code",
      "execution_count": null,
      "source": [
        "metrics.accuracy_score(y_test, svm_predictions)"
      ],
      "outputs": [
        {
          "output_type": "execute_result",
          "data": {
            "text/plain": [
              "0.9233434387180598"
            ]
          },
          "metadata": {},
          "execution_count": 86
        }
      ],
      "metadata": {
        "execution": {
          "iopub.execute_input": "2021-04-04T18:14:48.420798Z",
          "iopub.status.busy": "2021-04-04T18:14:48.419769Z",
          "iopub.status.idle": "2021-04-04T18:14:48.427304Z",
          "shell.execute_reply": "2021-04-04T18:14:48.426756Z"
        },
        "papermill": {
          "duration": 0.095595,
          "end_time": "2021-04-04T18:14:48.427486",
          "exception": false,
          "start_time": "2021-04-04T18:14:48.331891",
          "status": "completed"
        },
        "tags": [],
        "colab": {
          "base_uri": "https://localhost:8080/"
        },
        "id": "rE-GbXGawnlu",
        "outputId": "0f0aa09e-f5a9-4b71-cd8e-b48bd901482d"
      }
    },
    {
      "cell_type": "code",
      "execution_count": null,
      "source": [
        "f1_score(y_test, svm_predictions, average='weighted')"
      ],
      "outputs": [
        {
          "output_type": "execute_result",
          "data": {
            "text/plain": [
              "0.9201113770000815"
            ]
          },
          "metadata": {},
          "execution_count": 87
        }
      ],
      "metadata": {
        "execution": {
          "iopub.execute_input": "2021-04-04T18:14:48.598532Z",
          "iopub.status.busy": "2021-04-04T18:14:48.597890Z",
          "iopub.status.idle": "2021-04-04T18:14:48.605837Z",
          "shell.execute_reply": "2021-04-04T18:14:48.605232Z"
        },
        "papermill": {
          "duration": 0.095519,
          "end_time": "2021-04-04T18:14:48.605995",
          "exception": false,
          "start_time": "2021-04-04T18:14:48.510476",
          "status": "completed"
        },
        "tags": [],
        "colab": {
          "base_uri": "https://localhost:8080/"
        },
        "id": "-wXJOeOJwnlu",
        "outputId": "45e35546-17a6-4f61-fab4-f7d84bb376b7"
      }
    },
    {
      "cell_type": "code",
      "execution_count": null,
      "source": [
        "recall_score(y_test, svm_predictions, average='weighted')"
      ],
      "outputs": [
        {
          "output_type": "execute_result",
          "data": {
            "text/plain": [
              "0.9233434387180598"
            ]
          },
          "metadata": {},
          "execution_count": 88
        }
      ],
      "metadata": {
        "execution": {
          "iopub.execute_input": "2021-04-04T18:14:48.810190Z",
          "iopub.status.busy": "2021-04-04T18:14:48.809268Z",
          "iopub.status.idle": "2021-04-04T18:14:48.815012Z",
          "shell.execute_reply": "2021-04-04T18:14:48.814235Z"
        },
        "papermill": {
          "duration": 0.121949,
          "end_time": "2021-04-04T18:14:48.815235",
          "exception": false,
          "start_time": "2021-04-04T18:14:48.693286",
          "status": "completed"
        },
        "tags": [],
        "colab": {
          "base_uri": "https://localhost:8080/"
        },
        "id": "22lqiJIownlu",
        "outputId": "c43ff710-1e2a-49c1-d380-855b2128473f"
      }
    },
    {
      "cell_type": "code",
      "execution_count": null,
      "source": [
        "precision_score(y_test, svm_predictions, average='weighted')"
      ],
      "outputs": [
        {
          "output_type": "execute_result",
          "data": {
            "text/plain": [
              "0.9217105267589096"
            ]
          },
          "metadata": {},
          "execution_count": 89
        }
      ],
      "metadata": {
        "execution": {
          "iopub.execute_input": "2021-04-04T18:14:48.993274Z",
          "iopub.status.busy": "2021-04-04T18:14:48.992567Z",
          "iopub.status.idle": "2021-04-04T18:14:49.000283Z",
          "shell.execute_reply": "2021-04-04T18:14:48.999503Z"
        },
        "papermill": {
          "duration": 0.098352,
          "end_time": "2021-04-04T18:14:49.000464",
          "exception": false,
          "start_time": "2021-04-04T18:14:48.902112",
          "status": "completed"
        },
        "tags": [],
        "colab": {
          "base_uri": "https://localhost:8080/"
        },
        "id": "rLa_2Rsjwnlu",
        "outputId": "2861f629-e2f5-4661-a6c4-d4d840600497"
      }
    },
    {
      "cell_type": "code",
      "execution_count": null,
      "source": [
        "plot_confusion_matrix(optmodel, X_test, y_test)  \n",
        "plt.savefig('destination_path.pdf', format='pdf',bbox_inches = 'tight',\n",
        "    pad_inches = 0)\n",
        "plt.show()"
      ],
      "outputs": [
        {
          "output_type": "stream",
          "name": "stderr",
          "text": [
            "/usr/local/lib/python3.7/dist-packages/sklearn/utils/deprecation.py:87: FutureWarning: Function plot_confusion_matrix is deprecated; Function `plot_confusion_matrix` is deprecated in 1.0 and will be removed in 1.2. Use one of the class methods: ConfusionMatrixDisplay.from_predictions or ConfusionMatrixDisplay.from_estimator.\n",
            "  warnings.warn(msg, category=FutureWarning)\n"
          ]
        },
        {
          "output_type": "display_data",
          "data": {
            "text/plain": [
              "<Figure size 432x288 with 2 Axes>"
            ],
            "image/png": "[encoded data removed]"
          },
          "metadata": {
            "needs_background": "light"
          }
        }
      ],
      "metadata": {
        "execution": {
          "iopub.execute_input": "2021-04-04T18:14:49.176786Z",
          "iopub.status.busy": "2021-04-04T18:14:49.175920Z",
          "iopub.status.idle": "2021-04-04T18:15:24.622337Z",
          "shell.execute_reply": "2021-04-04T18:15:24.622870Z"
        },
        "papermill": {
          "duration": 35.537565,
          "end_time": "2021-04-04T18:15:24.623115",
          "exception": false,
          "start_time": "2021-04-04T18:14:49.085550",
          "status": "completed"
        },
        "tags": [],
        "colab": {
          "base_uri": "https://localhost:8080/"
        },
        "id": "M7HtpB8Ywnlu",
        "outputId": "1c5d5287-4538-42b1-cf93-f3d6aef9eeb0"
      }
    },
    {
      "cell_type": "code",
      "execution_count": null,
      "source": [],
      "outputs": [],
      "metadata": {
        "papermill": {
          "duration": 0.086475,
          "end_time": "2021-04-04T18:15:24.799266",
          "exception": false,
          "start_time": "2021-04-04T18:15:24.712791",
          "status": "completed"
        },
        "tags": [],
        "id": "MXrc_CG-wnlu"
      }
    }
  ],
  "metadata": {
    "kernelspec": {
      "name": "python3",
      "display_name": "Python 3.8.8 64-bit ('base': conda)"
    },
    "language_info": {
      "codemirror_mode": {
        "name": "ipython",
        "version": 3
      },
      "file_extension": ".py",
      "mimetype": "text/x-python",
      "name": "python",
      "nbconvert_exporter": "python",
      "pygments_lexer": "ipython3",
      "version": "3.8.8"
    },
    "papermill": {
      "default_parameters": {},
      "duration": 617.850237,
      "end_time": "2021-04-04T18:15:26.198137",
      "environment_variables": {},
      "exception": null,
      "input_path": "__notebook__.ipynb",
      "output_path": "__notebook__.ipynb",
      "parameters": {},
      "start_time": "2021-04-04T18:05:08.347900",
      "version": "2.2.2"
    },
    "interpreter": {
      "hash": "8601a975d5b65ee30fe9315c0431ed735e09b66d5031f3378debd4786873346a"
    },
    "colab": {
      "provenance": []
    }
  },
  "nbformat": 4,
  "nbformat_minor": 0
}